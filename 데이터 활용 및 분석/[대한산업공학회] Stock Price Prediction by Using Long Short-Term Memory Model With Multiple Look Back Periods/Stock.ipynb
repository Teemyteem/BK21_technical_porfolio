{
 "cells": [
  {
   "cell_type": "code",
   "execution_count": 1,
   "id": "a7f5a725",
   "metadata": {},
   "outputs": [],
   "source": [
    "# import library\n",
    "import yfinance as yf\n",
    "import math\n",
    "import pandas_datareader as web\n",
    "import numpy as np\n",
    "import pandas as pd\n",
    "import matplotlib.pyplot as plt\n",
    "from sklearn.preprocessing import MinMaxScaler\n",
    "from keras.models import Sequential\n",
    "from keras.layers import Dense, LSTM, TimeDistributed, Flatten, Dropout, LeakyReLU, Activation\n",
    "from keras.layers.convolutional import Conv1D\n",
    "from keras.layers.convolutional import MaxPooling1D"
   ]
  },
  {
   "cell_type": "code",
   "execution_count": 2,
   "id": "97fa3d75",
   "metadata": {
    "scrolled": true
   },
   "outputs": [],
   "source": [
    "# get stock data\n",
    "def get_data(stk_name, start_date):\n",
    "    data = yf.download(stk_name, start=start_date, end=\"2018-12-31\")\n",
    "    return data"
   ]
  },
  {
   "cell_type": "code",
   "execution_count": 3,
   "id": "f9750719",
   "metadata": {},
   "outputs": [],
   "source": [
    "# plot graph of raw stock data\n",
    "def plot_data(stk, stk_name):\n",
    "    close = stk['Close']\n",
    "    ax = close.plot(title=stk_name)\n",
    "    ax.set_xlabel('Date')\n",
    "    ax.set_ylabel('Close')\n",
    "    plt.show()"
   ]
  },
  {
   "cell_type": "code",
   "execution_count": 4,
   "id": "82cfd6a7",
   "metadata": {},
   "outputs": [],
   "source": [
    "# set train and test data\n",
    "def train_test_data(stk, look_back):\n",
    "    # get only close price\n",
    "    data = stk.filter(['Close'])\n",
    "\n",
    "    # numpy array\n",
    "    dataset = data.values\n",
    "\n",
    "    # train:test = 80:20\n",
    "    training_data_len = math.ceil(len(dataset) * 0.8)\n",
    "    training_data_len\n",
    "    \n",
    "    # Scaling\n",
    "    scaler = MinMaxScaler(feature_range=(0,1))\n",
    "    scaled_data = scaler.fit_transform(dataset)\n",
    "    \n",
    "    # train data 80%\n",
    "    train_data = scaled_data[:training_data_len, :]\n",
    "\n",
    "    x_train = [] \n",
    "    y_train = []\n",
    "\n",
    "    # x_train = look back days, y_train = predict next day\n",
    "    for i in range(look_back, len(train_data)):\n",
    "        x_train.append(train_data[i-look_back:i, 0])\n",
    "        y_train.append(train_data[i, 0])\n",
    "    \n",
    "    # numpy array\n",
    "    x_train, y_train = np.array(x_train), np.array(y_train)\n",
    "    \n",
    "    # reshape\n",
    "    x_train = np.reshape(x_train, (x_train.shape[0], x_train.shape[1],1))\n",
    "    \n",
    "    # test data 20%\n",
    "    test_data = scaled_data[training_data_len - look_back: , :] \n",
    "\n",
    "    x_test = [] \n",
    "    y_test = dataset[training_data_len: :]\n",
    "\n",
    "    for i in range(look_back, len(test_data)):\n",
    "        x_test.append(test_data[i-look_back:i, 0])\n",
    "\n",
    "    x_test = np.array(x_test)\n",
    "    x_test = np.reshape(x_test, (x_test.shape[0], x_test.shape[1], 1))\n",
    "    \n",
    "    return x_train, y_train, x_test, y_test, data, training_data_len, scaler"
   ]
  },
  {
   "cell_type": "code",
   "execution_count": 5,
   "id": "fc635a1b",
   "metadata": {},
   "outputs": [],
   "source": [
    "# develop LSTM model\n",
    "def model(x_train, y_train, x_test, y_test, optimizer, epochs, scaler):\n",
    "\n",
    "    # Initial\n",
    "    model = Sequential()\n",
    "    model.add(LSTM(50, return_sequences=True, input_shape=(x_train.shape[1],1)))\n",
    "    model.add(LSTM(50, return_sequences=True))\n",
    "    model.add(LSTM(50, return_sequences=False))\n",
    "    model.add(Dropout(0.2))\n",
    "    model.add(Dense(25))\n",
    "    model.add(Dense(1))\n",
    "\n",
    "    # Compile\n",
    "    model.compile(optimizer=optimizer, loss='mean_squared_error')\n",
    "    \n",
    "    # Train model\n",
    "    model.fit(x_train, y_train, batch_size=1, epochs=epochs)\n",
    "    \n",
    "    # Predict model\n",
    "    predictions = model.predict(x_test)\n",
    "\n",
    "    # Transform scaler\n",
    "    predictions = scaler.inverse_transform(predictions)\n",
    "    \n",
    "    # Root mean squared error\n",
    "    rmse = np.sqrt(np.mean(predictions - y_test)**2)\n",
    "    \n",
    "    # MAPE\n",
    "    mape = np.mean(np.abs((y_test - predictions) / y_test)) * 100 \n",
    "    \n",
    "    print(\"Optimizer = {}, epochs = {}, rmse = {}, mape = {}\".format(optimizer, epochs, rmse, mape))\n",
    "    \n",
    "    return predictions"
   ]
  },
  {
   "cell_type": "code",
   "execution_count": 6,
   "id": "b2b4592f",
   "metadata": {},
   "outputs": [],
   "source": [
    "# develop CNN model (New)\n",
    "def cnn_model(x_train, y_train, x_test, y_test, optimizer, epochs, scaler):\n",
    "    # Parameters\n",
    "    nFeatures = x_train.shape[1]\n",
    "    batchSize = 1000\n",
    "    nOutput = 1\n",
    "    kernelSize = 1\n",
    "    \n",
    "    # Model Building\n",
    "    model = Sequential()\n",
    "    model.add(Conv1D(filters=32, kernel_size=kernelSize, padding='same', activation='relu', input_shape=(nFeatures, 1)))\n",
    "    model.add(Conv1D(filters=64, kernel_size=kernelSize, padding='same'))\n",
    "    model.add(LeakyReLU(alpha=0.01))\n",
    "    model.add(MaxPooling1D(pool_size=(1)))\n",
    "    model.add(Conv1D(filters=128, kernel_size=kernelSize, padding='same'))\n",
    "    model.add(LeakyReLU(alpha=0.01))\n",
    "    model.add(Flatten())\n",
    "    model.add(Dense(256,))\n",
    "    model.add(LeakyReLU(alpha=0.01))\n",
    "    model.add(Dropout(0.8))\n",
    "    model.add(Dense(nOutput, activation='sigmoid'))\n",
    "    model.compile(loss='binary_crossentropy', optimizer=optimizer, metrics=['accuracy'])\n",
    "    model.summary()\n",
    "\n",
    "    # Train model\n",
    "    fitReturn = model.fit(x_train, y_train, validation_data=(x_test, y_test), epochs=epochs, batch_size=batchSize, verbose=1)\n",
    "    \n",
    "    # Predict model\n",
    "    predictions = model.predict(x_test, verbose=0)\n",
    "    \n",
    "    # Transform scaler\n",
    "    predictions = scaler.inverse_transform(predictions)\n",
    "    \n",
    "    # Root mean squared error\n",
    "    rmse = np.sqrt(np.mean(predictions - y_test)**2)\n",
    "    \n",
    "    # MAPE\n",
    "    mape = np.mean(np.abs((y_test - predictions) / y_test)) * 100 \n",
    "    \n",
    "    print(\"Optimizer = {}, epochs = {}, rmse = {}, mape = {}\".format(optimizer, epochs, rmse, mape))\n",
    "    \n",
    "    return predictions"
   ]
  },
  {
   "cell_type": "code",
   "execution_count": 7,
   "id": "6fcca1e0",
   "metadata": {},
   "outputs": [],
   "source": [
    "# develop CNN model (Thesis)\n",
    "def thesis_cnn_model(x_train, y_train, x_test, y_test, optimizer, epochs, scaler):\n",
    "    # Parameters\n",
    "    nFeatures = x_train.shape[1]\n",
    "    batchSize = 1000\n",
    "    nOutput = 1\n",
    "    kernelSize = 1\n",
    "    \n",
    "    # Model Building\n",
    "    model = Sequential()\n",
    "    model.add(Conv1D(filters=64, kernel_size=kernelSize, padding='same', activation='relu', input_shape=(nFeatures, 1)))\n",
    "    model.add(MaxPooling1D(pool_size=(2)))\n",
    "    model.add(Conv1D(filters=64, kernel_size=kernelSize, padding='same'))\n",
    "    model.add(MaxPooling1D(pool_size=(2)))\n",
    "    model.add(Dropout(0.8))\n",
    "    model.add(Flatten())\n",
    "    model.add(Dense(256,))\n",
    "    model.add(Dropout(0.8))\n",
    "    model.add(Activation('relu'))\n",
    "    model.add(Dense(256,))\n",
    "    model.add(Activation('relu'))\n",
    "    model.add(Dense(nOutput, activation='sigmoid'))\n",
    "    model.compile(loss='binary_crossentropy', optimizer=optimizer, metrics=['accuracy'])\n",
    "    model.summary()\n",
    "\n",
    "    # Train model\n",
    "    fitReturn = model.fit(x_train, y_train, validation_data=(x_test, y_test), epochs=epochs, batch_size=batchSize, verbose=1)\n",
    "    \n",
    "    # Predict model\n",
    "    predictions = model.predict(x_test, verbose=0)\n",
    "    \n",
    "    # Transform scaler\n",
    "    predictions = scaler.inverse_transform(predictions)\n",
    "    \n",
    "    # Root mean squared error\n",
    "    rmse = np.sqrt(np.mean(predictions - y_test)**2)\n",
    "    \n",
    "    # MAPE\n",
    "    mape = np.mean(np.abs((y_test - predictions) / y_test)) * 100 \n",
    "    \n",
    "    print(\"Optimizer = {}, epochs = {}, rmse = {}, mape = {}\".format(optimizer, epochs, rmse, mape))\n",
    "    \n",
    "    return predictions"
   ]
  },
  {
   "cell_type": "code",
   "execution_count": 8,
   "id": "56955529",
   "metadata": {},
   "outputs": [],
   "source": [
    "# draw a graph of predict data\n",
    "def plot_graph(data, predictions, training_data_len):\n",
    "    \n",
    "    # plot existing stock with predict stock\n",
    "    train = data[:training_data_len]\n",
    "    valid = data[training_data_len:]\n",
    "    valid['Predictions'] = predictions\n",
    "\n",
    "    plt.figure(figsize=(7,5))\n",
    "    plt.title('Model')\n",
    "    plt.xlabel('Date', fontsize=18)\n",
    "    plt.ylabel('Close Price', fontsize=18)\n",
    "    plt.plot(train['Close'])\n",
    "    plt.plot(valid[['Close', 'Predictions']])\n",
    "    plt.legend(['Train', 'Val', 'Predictions'] , loc='lower right')\n",
    "    plt.show()\n",
    "\n",
    "    return valid"
   ]
  },
  {
   "cell_type": "markdown",
   "id": "f08ceaae",
   "metadata": {},
   "source": [
    "# CPALL (CP All PCL)"
   ]
  },
  {
   "cell_type": "code",
   "execution_count": 9,
   "id": "733e1787",
   "metadata": {},
   "outputs": [
    {
     "name": "stdout",
     "output_type": "stream",
     "text": [
      "[*********************100%***********************]  1 of 1 completed\n"
     ]
    },
    {
     "data": {
      "image/png": "[encoded data removed]",
      "text/plain": [
       "<Figure size 432x288 with 1 Axes>"
      ]
     },
     "metadata": {
      "needs_background": "light"
     },
     "output_type": "display_data"
    }
   ],
   "source": [
    "# get stock data (2001)\n",
    "df_CPALL = get_data(\"CPALL.BK\", \"2001-01-01\")\n",
    "\n",
    "# draw data graph\n",
    "plot_data(df_CPALL, \"CPALL\")"
   ]
  },
  {
   "cell_type": "code",
   "execution_count": 10,
   "id": "f31ca355",
   "metadata": {},
   "outputs": [
    {
     "data": {
      "text/html": [
       "<div>\n",
       "<style scoped>\n",
       "    .dataframe tbody tr th:only-of-type {\n",
       "        vertical-align: middle;\n",
       "    }\n",
       "\n",
       "    .dataframe tbody tr th {\n",
       "        vertical-align: top;\n",
       "    }\n",
       "\n",
       "    .dataframe thead th {\n",
       "        text-align: right;\n",
       "    }\n",
       "</style>\n",
       "<table border=\"1\" class=\"dataframe\">\n",
       "  <thead>\n",
       "    <tr style=\"text-align: right;\">\n",
       "      <th></th>\n",
       "      <th>Open</th>\n",
       "      <th>High</th>\n",
       "      <th>Low</th>\n",
       "      <th>Close</th>\n",
       "      <th>Adj Close</th>\n",
       "      <th>Volume</th>\n",
       "    </tr>\n",
       "    <tr>\n",
       "      <th>Date</th>\n",
       "      <th></th>\n",
       "      <th></th>\n",
       "      <th></th>\n",
       "      <th></th>\n",
       "      <th></th>\n",
       "      <th></th>\n",
       "    </tr>\n",
       "  </thead>\n",
       "  <tbody>\n",
       "    <tr>\n",
       "      <th>2003-10-14</th>\n",
       "      <td>3.000</td>\n",
       "      <td>3.10</td>\n",
       "      <td>2.775</td>\n",
       "      <td>2.80</td>\n",
       "      <td>1.612804</td>\n",
       "      <td>46761900</td>\n",
       "    </tr>\n",
       "    <tr>\n",
       "      <th>2003-10-15</th>\n",
       "      <td>2.850</td>\n",
       "      <td>2.90</td>\n",
       "      <td>2.825</td>\n",
       "      <td>2.85</td>\n",
       "      <td>1.641604</td>\n",
       "      <td>1126730000</td>\n",
       "    </tr>\n",
       "    <tr>\n",
       "      <th>2003-10-16</th>\n",
       "      <td>2.875</td>\n",
       "      <td>2.90</td>\n",
       "      <td>2.850</td>\n",
       "      <td>2.85</td>\n",
       "      <td>1.641604</td>\n",
       "      <td>661310000</td>\n",
       "    </tr>\n",
       "    <tr>\n",
       "      <th>2003-10-17</th>\n",
       "      <td>2.850</td>\n",
       "      <td>3.00</td>\n",
       "      <td>2.850</td>\n",
       "      <td>2.95</td>\n",
       "      <td>1.699204</td>\n",
       "      <td>971240000</td>\n",
       "    </tr>\n",
       "    <tr>\n",
       "      <th>2003-10-20</th>\n",
       "      <td>2.975</td>\n",
       "      <td>3.00</td>\n",
       "      <td>2.900</td>\n",
       "      <td>2.90</td>\n",
       "      <td>1.670404</td>\n",
       "      <td>228750000</td>\n",
       "    </tr>\n",
       "    <tr>\n",
       "      <th>...</th>\n",
       "      <td>...</td>\n",
       "      <td>...</td>\n",
       "      <td>...</td>\n",
       "      <td>...</td>\n",
       "      <td>...</td>\n",
       "      <td>...</td>\n",
       "    </tr>\n",
       "    <tr>\n",
       "      <th>2018-12-24</th>\n",
       "      <td>69.250</td>\n",
       "      <td>69.75</td>\n",
       "      <td>69.250</td>\n",
       "      <td>69.50</td>\n",
       "      <td>63.704311</td>\n",
       "      <td>8806300</td>\n",
       "    </tr>\n",
       "    <tr>\n",
       "      <th>2018-12-25</th>\n",
       "      <td>69.000</td>\n",
       "      <td>69.25</td>\n",
       "      <td>68.500</td>\n",
       "      <td>69.00</td>\n",
       "      <td>63.246002</td>\n",
       "      <td>13892900</td>\n",
       "    </tr>\n",
       "    <tr>\n",
       "      <th>2018-12-26</th>\n",
       "      <td>69.000</td>\n",
       "      <td>69.25</td>\n",
       "      <td>68.500</td>\n",
       "      <td>69.00</td>\n",
       "      <td>63.246002</td>\n",
       "      <td>24368000</td>\n",
       "    </tr>\n",
       "    <tr>\n",
       "      <th>2018-12-27</th>\n",
       "      <td>69.250</td>\n",
       "      <td>69.25</td>\n",
       "      <td>68.250</td>\n",
       "      <td>68.75</td>\n",
       "      <td>63.016865</td>\n",
       "      <td>27868500</td>\n",
       "    </tr>\n",
       "    <tr>\n",
       "      <th>2018-12-28</th>\n",
       "      <td>68.750</td>\n",
       "      <td>69.25</td>\n",
       "      <td>68.500</td>\n",
       "      <td>68.75</td>\n",
       "      <td>63.016865</td>\n",
       "      <td>23212400</td>\n",
       "    </tr>\n",
       "  </tbody>\n",
       "</table>\n",
       "<p>3759 rows × 6 columns</p>\n",
       "</div>"
      ],
      "text/plain": [
       "              Open   High     Low  Close  Adj Close      Volume\n",
       "Date                                                           \n",
       "2003-10-14   3.000   3.10   2.775   2.80   1.612804    46761900\n",
       "2003-10-15   2.850   2.90   2.825   2.85   1.641604  1126730000\n",
       "2003-10-16   2.875   2.90   2.850   2.85   1.641604   661310000\n",
       "2003-10-17   2.850   3.00   2.850   2.95   1.699204   971240000\n",
       "2003-10-20   2.975   3.00   2.900   2.90   1.670404   228750000\n",
       "...            ...    ...     ...    ...        ...         ...\n",
       "2018-12-24  69.250  69.75  69.250  69.50  63.704311     8806300\n",
       "2018-12-25  69.000  69.25  68.500  69.00  63.246002    13892900\n",
       "2018-12-26  69.000  69.25  68.500  69.00  63.246002    24368000\n",
       "2018-12-27  69.250  69.25  68.250  68.75  63.016865    27868500\n",
       "2018-12-28  68.750  69.25  68.500  68.75  63.016865    23212400\n",
       "\n",
       "[3759 rows x 6 columns]"
      ]
     },
     "execution_count": 10,
     "metadata": {},
     "output_type": "execute_result"
    }
   ],
   "source": [
    "df_CPALL"
   ]
  },
  {
   "cell_type": "code",
   "execution_count": 27,
   "id": "09a33ea2",
   "metadata": {},
   "outputs": [],
   "source": [
    "# set train and test data for 30 look back\n",
    "x_train, y_train, x_test, y_test, data, training_data_len, scaler = train_test_data(df_CPALL, 30)"
   ]
  },
  {
   "cell_type": "code",
   "execution_count": 28,
   "id": "cee8f7ae",
   "metadata": {
    "scrolled": true
   },
   "outputs": [
    {
     "name": "stdout",
     "output_type": "stream",
     "text": [
      "Epoch 1/10\n",
      "2962/2962 [==============================] - 48s 14ms/step - loss: 7.2578e-04\n",
      "Epoch 2/10\n",
      "2962/2962 [==============================] - 43s 14ms/step - loss: 2.5906e-04\n",
      "Epoch 3/10\n",
      "2962/2962 [==============================] - 45s 15ms/step - loss: 1.9212e-04\n",
      "Epoch 4/10\n",
      "2962/2962 [==============================] - 54s 18ms/step - loss: 1.6052e-04\n",
      "Epoch 5/10\n",
      "2962/2962 [==============================] - 57s 19ms/step - loss: 1.3438e-04\n",
      "Epoch 6/10\n",
      "2962/2962 [==============================] - 54s 18ms/step - loss: 1.2297e-04\n",
      "Epoch 7/10\n",
      "2962/2962 [==============================] - 55s 18ms/step - loss: 1.1270e-04\n",
      "Epoch 8/10\n",
      "2962/2962 [==============================] - 56s 19ms/step - loss: 1.0068e-04\n",
      "Epoch 9/10\n",
      "2962/2962 [==============================] - 48s 16ms/step - loss: 9.4914e-05\n",
      "Epoch 10/10\n",
      "2962/2962 [==============================] - 47s 16ms/step - loss: 9.5034e-05\n",
      "24/24 [==============================] - 3s 11ms/step\n",
      "Optimizer = rmsprop, epochs = 10, rmse = 0.9925377014650398, mape = 2.000906079021218\n"
     ]
    }
   ],
   "source": [
    "# predict LSTM model with 30 look back\n",
    "predictions = model(x_train, y_train, x_test, y_test, 'adam', 1, scaler)\n",
    "predictions = model(x_train, y_train, x_test, y_test, 'adam', 10, scaler)\n",
    "predictions = model(x_train, y_train, x_test, y_test, 'adam', 20, scaler)\n",
    "predictions = model(x_train, y_train, x_test, y_test, 'adam', 30, scaler)\n",
    "\n",
    "predictions = model(x_train, y_train, x_test, y_test, 'sgd', 1, scaler)\n",
    "predictions = model(x_train, y_train, x_test, y_test, 'sgd', 10, scaler)\n",
    "predictions = model(x_train, y_train, x_test, y_test, 'sgd', 20, scaler)\n",
    "predictions = model(x_train, y_train, x_test, y_test, 'sgd', 30, scaler)\n",
    "\n",
    "predictions = model(x_train, y_train, x_test, y_test, 'rmsprop', 1, scaler)\n",
    "predictions = model(x_train, y_train, x_test, y_test, 'rmsprop', 10, scaler)\n",
    "predictions = model(x_train, y_train, x_test, y_test, 'rmsprop', 20, scaler)\n",
    "predictions = model(x_train, y_train, x_test, y_test, 'rmsprop', 30, scaler)"
   ]
  },
  {
   "cell_type": "code",
   "execution_count": null,
   "id": "341980e5",
   "metadata": {},
   "outputs": [],
   "source": [
    "# set train and test data for 60 look back\n",
    "x_train, y_train, x_test, y_test, data, training_data_len, scaler = train_test_data(df_CPALL, 60)"
   ]
  },
  {
   "cell_type": "code",
   "execution_count": null,
   "id": "25bf3e56",
   "metadata": {},
   "outputs": [],
   "source": [
    "# predict LSTM model with 60 look back\n",
    "predictions = model(x_train, y_train, x_test, y_test, 'adam', 1, scaler)\n",
    "predictions = model(x_train, y_train, x_test, y_test, 'adam', 10, scaler)\n",
    "predictions = model(x_train, y_train, x_test, y_test, 'adam', 20, scaler)\n",
    "predictions = model(x_train, y_train, x_test, y_test, 'adam', 30, scaler)\n",
    "\n",
    "predictions = model(x_train, y_train, x_test, y_test, 'sgd', 1, scaler)\n",
    "predictions = model(x_train, y_train, x_test, y_test, 'sgd', 10, scaler)\n",
    "predictions = model(x_train, y_train, x_test, y_test, 'sgd', 20, scaler)\n",
    "predictions = model(x_train, y_train, x_test, y_test, 'sgd', 30, scaler)\n",
    "\n",
    "predictions = model(x_train, y_train, x_test, y_test, 'rmsprop', 1, scaler)\n",
    "predictions = model(x_train, y_train, x_test, y_test, 'rmsprop', 10, scaler)\n",
    "predictions = model(x_train, y_train, x_test, y_test, 'rmsprop', 20, scaler)\n",
    "predictions = model(x_train, y_train, x_test, y_test, 'rmsprop', 30, scaler)"
   ]
  },
  {
   "cell_type": "code",
   "execution_count": null,
   "id": "4cba4b63",
   "metadata": {},
   "outputs": [],
   "source": [
    "# predict thesis CNN model\n",
    "predictions = thesis_cnn_model(x_train, y_train, x_test, y_test, 'adam', 10, scaler, 3)\n",
    "predictions = thesis_cnn_model(x_train, y_train, x_test, y_test, 'adam', 20, scaler, 3)\n",
    "predictions = thesis_cnn_model(x_train, y_train, x_test, y_test, 'adam', 30, scaler, 3)\n",
    "predictions = thesis_cnn_model(x_train, y_train, x_test, y_test, 'adam', 100, scaler, 3)\n",
    "predictions = thesis_cnn_model(x_train, y_train, x_test, y_test, 'adam', 200, scaler, 3)\n",
    "predictions = thesis_cnn_model(x_train, y_train, x_test, y_test, 'adam', 300, scaler, 3)\n",
    "\n",
    "predictions = thesis_cnn_model(x_train, y_train, x_test, y_test, 'adam', 10, scaler, 5)\n",
    "predictions = thesis_cnn_model(x_train, y_train, x_test, y_test, 'adam', 20, scaler, 5)\n",
    "predictions = thesis_cnn_model(x_train, y_train, x_test, y_test, 'adam', 30, scaler, 5)\n",
    "predictions = thesis_cnn_model(x_train, y_train, x_test, y_test, 'adam', 100, scaler, 5)\n",
    "predictions = thesis_cnn_model(x_train, y_train, x_test, y_test, 'adam', 200, scaler, 5)\n",
    "predictions = thesis_cnn_model(x_train, y_train, x_test, y_test, 'adam', 300, scaler, 5)\n",
    "\n",
    "predictions = thesis_cnn_model(x_train, y_train, x_test, y_test, 'adam', 10, scaler,  7)\n",
    "predictions = thesis_cnn_model(x_train, y_train, x_test, y_test, 'adam', 20, scaler,  7)\n",
    "predictions = thesis_cnn_model(x_train, y_train, x_test, y_test, 'adam', 30, scaler,  7)\n",
    "predictions = thesis_cnn_model(x_train, y_train, x_test, y_test, 'adam', 100, scaler, 7)\n",
    "predictions = thesis_cnn_model(x_train, y_train, x_test, y_test, 'adam', 200, scaler, 7)\n",
    "predictions = thesis_cnn_model(x_train, y_train, x_test, y_test, 'adam', 300, scaler, 7)\n",
    "\n",
    "predictions = thesis_cnn_model(x_train, y_train, x_test, y_test, 'sgd', 10, scaler, 3)\n",
    "predictions = thesis_cnn_model(x_train, y_train, x_test, y_test, 'sgd', 20, scaler, 3)\n",
    "predictions = thesis_cnn_model(x_train, y_train, x_test, y_test, 'sgd', 30, scaler, 3)\n",
    "predictions = thesis_cnn_model(x_train, y_train, x_test, y_test, 'sgd', 100, scaler, 3)\n",
    "predictions = thesis_cnn_model(x_train, y_train, x_test, y_test, 'sgd', 200, scaler, 3)\n",
    "predictions = thesis_cnn_model(x_train, y_train, x_test, y_test, 'sgd', 300, scaler, 3)\n",
    "\n",
    "predictions = thesis_cnn_model(x_train, y_train, x_test, y_test, 'sgd', 10, scaler, 5)\n",
    "predictions = thesis_cnn_model(x_train, y_train, x_test, y_test, 'sgd', 20, scaler, 5)\n",
    "predictions = thesis_cnn_model(x_train, y_train, x_test, y_test, 'sgd', 30, scaler, 5)\n",
    "predictions = thesis_cnn_model(x_train, y_train, x_test, y_test, 'sgd', 100, scaler, 5)\n",
    "predictions = thesis_cnn_model(x_train, y_train, x_test, y_test, 'sgd', 200, scaler, 5)\n",
    "predictions = thesis_cnn_model(x_train, y_train, x_test, y_test, 'sgd', 300, scaler, 5)\n",
    "\n",
    "predictions = thesis_cnn_model(x_train, y_train, x_test, y_test, 'sgd', 10, scaler,  7)\n",
    "predictions = thesis_cnn_model(x_train, y_train, x_test, y_test, 'sgd', 20, scaler,  7)\n",
    "predictions = thesis_cnn_model(x_train, y_train, x_test, y_test, 'sgd', 30, scaler,  7)\n",
    "predictions = thesis_cnn_model(x_train, y_train, x_test, y_test, 'sgd', 100, scaler, 7)\n",
    "predictions = thesis_cnn_model(x_train, y_train, x_test, y_test, 'sgd', 200, scaler, 7)\n",
    "predictions = thesis_cnn_model(x_train, y_train, x_test, y_test, 'sgd', 300, scaler, 7)\n",
    "\n",
    "predictions = thesis_cnn_model(x_train, y_train, x_test, y_test, 'rmsprop', 10, scaler, 3)\n",
    "predictions = thesis_cnn_model(x_train, y_train, x_test, y_test, 'rmsprop', 20, scaler, 3)\n",
    "predictions = thesis_cnn_model(x_train, y_train, x_test, y_test, 'rmsprop', 30, scaler, 3)\n",
    "predictions = thesis_cnn_model(x_train, y_train, x_test, y_test, 'rmsprop', 100, scaler, 3)\n",
    "predictions = thesis_cnn_model(x_train, y_train, x_test, y_test, 'rmsprop', 200, scaler, 3)\n",
    "predictions = thesis_cnn_model(x_train, y_train, x_test, y_test, 'rmsprop', 300, scaler, 3)\n",
    "\n",
    "predictions = thesis_cnn_model(x_train, y_train, x_test, y_test, 'rmsprop', 10, scaler, 5)\n",
    "predictions = thesis_cnn_model(x_train, y_train, x_test, y_test, 'rmsprop', 20, scaler, 5)\n",
    "predictions = thesis_cnn_model(x_train, y_train, x_test, y_test, 'rmsprop', 30, scaler, 5)\n",
    "predictions = thesis_cnn_model(x_train, y_train, x_test, y_test, 'rmsprop', 100, scaler, 5)\n",
    "predictions = thesis_cnn_model(x_train, y_train, x_test, y_test, 'rmsprop', 200, scaler, 5)\n",
    "predictions = thesis_cnn_model(x_train, y_train, x_test, y_test, 'rmsprop', 300, scaler, 5)\n",
    "\n",
    "predictions = thesis_cnn_model(x_train, y_train, x_test, y_test, 'rmsprop', 10, scaler,  7)\n",
    "predictions = thesis_cnn_model(x_train, y_train, x_test, y_test, 'rmsprop', 20, scaler,  7)\n",
    "predictions = thesis_cnn_model(x_train, y_train, x_test, y_test, 'rmsprop', 30, scaler,  7)\n",
    "predictions = thesis_cnn_model(x_train, y_train, x_test, y_test, 'rmsprop', 100, scaler, 7)\n",
    "predictions = thesis_cnn_model(x_train, y_train, x_test, y_test, 'rmsprop', 200, scaler, 7)\n",
    "predictions = thesis_cnn_model(x_train, y_train, x_test, y_test, 'rmsprop', 300, scaler, 7)"
   ]
  },
  {
   "cell_type": "code",
   "execution_count": null,
   "id": "9562c740",
   "metadata": {},
   "outputs": [],
   "source": [
    "# predict new CNN model\n",
    "predictions = cnn_model(x_train, y_train, x_test, y_test, 'adam', 10, scaler, 3)\n",
    "predictions = cnn_model(x_train, y_train, x_test, y_test, 'adam', 20, scaler, 3)\n",
    "predictions = cnn_model(x_train, y_train, x_test, y_test, 'adam', 30, scaler, 3)\n",
    "predictions = cnn_model(x_train, y_train, x_test, y_test, 'adam', 100, scaler, 3)\n",
    "predictions = cnn_model(x_train, y_train, x_test, y_test, 'adam', 200, scaler, 3)\n",
    "predictions = cnn_model(x_train, y_train, x_test, y_test, 'adam', 300, scaler, 3)\n",
    "\n",
    "predictions = cnn_model(x_train, y_train, x_test, y_test, 'adam', 10, scaler, 5)\n",
    "predictions = cnn_model(x_train, y_train, x_test, y_test, 'adam', 20, scaler, 5)\n",
    "predictions = cnn_model(x_train, y_train, x_test, y_test, 'adam', 30, scaler, 5)\n",
    "predictions = cnn_model(x_train, y_train, x_test, y_test, 'adam', 100, scaler, 5)\n",
    "predictions = cnn_model(x_train, y_train, x_test, y_test, 'adam', 200, scaler, 5)\n",
    "predictions = cnn_model(x_train, y_train, x_test, y_test, 'adam', 300, scaler, 5)\n",
    "\n",
    "predictions = cnn_model(x_train, y_train, x_test, y_test, 'adam', 10, scaler,  7)\n",
    "predictions = cnn_model(x_train, y_train, x_test, y_test, 'adam', 20, scaler,  7)\n",
    "predictions = cnn_model(x_train, y_train, x_test, y_test, 'adam', 30, scaler,  7)\n",
    "predictions = cnn_model(x_train, y_train, x_test, y_test, 'adam', 100, scaler, 7)\n",
    "predictions = cnn_model(x_train, y_train, x_test, y_test, 'adam', 200, scaler, 7)\n",
    "predictions = cnn_model(x_train, y_train, x_test, y_test, 'adam', 300, scaler, 7)\n",
    "\n",
    "predictions = cnn_model(x_train, y_train, x_test, y_test, 'sgd', 10, scaler, 3)\n",
    "predictions = cnn_model(x_train, y_train, x_test, y_test, 'sgd', 20, scaler, 3)\n",
    "predictions = cnn_model(x_train, y_train, x_test, y_test, 'sgd', 30, scaler, 3)\n",
    "predictions = cnn_model(x_train, y_train, x_test, y_test, 'sgd', 100, scaler, 3)\n",
    "predictions = cnn_model(x_train, y_train, x_test, y_test, 'sgd', 200, scaler, 3)\n",
    "predictions = cnn_model(x_train, y_train, x_test, y_test, 'sgd', 300, scaler, 3)\n",
    "\n",
    "predictions = cnn_model(x_train, y_train, x_test, y_test, 'sgd', 10, scaler, 5)\n",
    "predictions = cnn_model(x_train, y_train, x_test, y_test, 'sgd', 20, scaler, 5)\n",
    "predictions = cnn_model(x_train, y_train, x_test, y_test, 'sgd', 30, scaler, 5)\n",
    "predictions = cnn_model(x_train, y_train, x_test, y_test, 'sgd', 100, scaler, 5)\n",
    "predictions = cnn_model(x_train, y_train, x_test, y_test, 'sgd', 200, scaler, 5)\n",
    "predictions = cnn_model(x_train, y_train, x_test, y_test, 'sgd', 300, scaler, 5)\n",
    "\n",
    "predictions = cnn_model(x_train, y_train, x_test, y_test, 'sgd', 10, scaler,  7)\n",
    "predictions = cnn_model(x_train, y_train, x_test, y_test, 'sgd', 20, scaler,  7)\n",
    "predictions = cnn_model(x_train, y_train, x_test, y_test, 'sgd', 30, scaler,  7)\n",
    "predictions = cnn_model(x_train, y_train, x_test, y_test, 'sgd', 100, scaler, 7)\n",
    "predictions = cnn_model(x_train, y_train, x_test, y_test, 'sgd', 200, scaler, 7)\n",
    "predictions = cnn_model(x_train, y_train, x_test, y_test, 'sgd', 300, scaler, 7)\n",
    "\n",
    "predictions = cnn_model(x_train, y_train, x_test, y_test, 'rmsprop', 10, scaler, 3)\n",
    "predictions = cnn_model(x_train, y_train, x_test, y_test, 'rmsprop', 20, scaler, 3)\n",
    "predictions = cnn_model(x_train, y_train, x_test, y_test, 'rmsprop', 30, scaler, 3)\n",
    "predictions = cnn_model(x_train, y_train, x_test, y_test, 'rmsprop', 100, scaler, 3)\n",
    "predictions = cnn_model(x_train, y_train, x_test, y_test, 'rmsprop', 200, scaler, 3)\n",
    "predictions = cnn_model(x_train, y_train, x_test, y_test, 'rmsprop', 300, scaler, 3)\n",
    "\n",
    "predictions = cnn_model(x_train, y_train, x_test, y_test, 'rmsprop', 10, scaler, 5)\n",
    "predictions = cnn_model(x_train, y_train, x_test, y_test, 'rmsprop', 20, scaler, 5)\n",
    "predictions = cnn_model(x_train, y_train, x_test, y_test, 'rmsprop', 30, scaler, 5)\n",
    "predictions = cnn_model(x_train, y_train, x_test, y_test, 'rmsprop', 100, scaler, 5)\n",
    "predictions = cnn_model(x_train, y_train, x_test, y_test, 'rmsprop', 200, scaler, 5)\n",
    "predictions = cnn_model(x_train, y_train, x_test, y_test, 'rmsprop', 300, scaler, 5)\n",
    "\n",
    "predictions = cnn_model(x_train, y_train, x_test, y_test, 'rmsprop', 10, scaler,  7)\n",
    "predictions = cnn_model(x_train, y_train, x_test, y_test, 'rmsprop', 20, scaler,  7)\n",
    "predictions = cnn_model(x_train, y_train, x_test, y_test, 'rmsprop', 30, scaler,  7)\n",
    "predictions = cnn_model(x_train, y_train, x_test, y_test, 'rmsprop', 100, scaler, 7)\n",
    "predictions = cnn_model(x_train, y_train, x_test, y_test, 'rmsprop', 200, scaler, 7)\n",
    "predictions = cnn_model(x_train, y_train, x_test, y_test, 'rmsprop', 300, scaler, 7)"
   ]
  },
  {
   "cell_type": "code",
   "execution_count": 12,
   "id": "395354e4",
   "metadata": {},
   "outputs": [
    {
     "name": "stderr",
     "output_type": "stream",
     "text": [
      "C:\\Users\\TEEM\\AppData\\Local\\Temp\\ipykernel_94812\\1868488282.py:7: SettingWithCopyWarning: \n",
      "A value is trying to be set on a copy of a slice from a DataFrame.\n",
      "Try using .loc[row_indexer,col_indexer] = value instead\n",
      "\n",
      "See the caveats in the documentation: https://pandas.pydata.org/pandas-docs/stable/user_guide/indexing.html#returning-a-view-versus-a-copy\n",
      "  valid['Predictions'] = predictions\n"
     ]
    },
    {
     "data": {
      "image/png": "[encoded data removed]",
      "text/plain": [
       "<Figure size 504x360 with 1 Axes>"
      ]
     },
     "metadata": {
      "needs_background": "light"
     },
     "output_type": "display_data"
    }
   ],
   "source": [
    "# draw prediction graph\n",
    "valid = plot_graph(data, predictions, training_data_len)"
   ]
  },
  {
   "cell_type": "code",
   "execution_count": null,
   "id": "5d5ea1a9",
   "metadata": {},
   "outputs": [],
   "source": [
    "# show prediction data\n",
    "valid"
   ]
  },
  {
   "cell_type": "code",
   "execution_count": 29,
   "id": "45f0b550",
   "metadata": {},
   "outputs": [
    {
     "name": "stdout",
     "output_type": "stream",
     "text": [
      "[*********************100%***********************]  1 of 1 completed\n"
     ]
    },
    {
     "data": {
      "image/png": "[encoded data removed]",
      "text/plain": [
       "<Figure size 432x288 with 1 Axes>"
      ]
     },
     "metadata": {
      "needs_background": "light"
     },
     "output_type": "display_data"
    }
   ],
   "source": [
    "# get stock data (2011)\n",
    "df_CPALL = get_data(\"CPALL.BK\", \"2011-01-01\")\n",
    "\n",
    "# draw data graph\n",
    "plot_data(df_CPALL, \"CPALL\")"
   ]
  },
  {
   "cell_type": "code",
   "execution_count": 30,
   "id": "7aeb95b0",
   "metadata": {},
   "outputs": [],
   "source": [
    "# set train and test data for 30 look back\n",
    "x_train, y_train, x_test, y_test, data, training_data_len, scaler = train_test_data(df_CPALL, 30)"
   ]
  },
  {
   "cell_type": "code",
   "execution_count": 31,
   "id": "435b44d6",
   "metadata": {},
   "outputs": [
    {
     "name": "stdout",
     "output_type": "stream",
     "text": [
      "1534/1534 [==============================] - 40s 20ms/step - loss: 0.0012\n",
      "13/13 [==============================] - 2s 9ms/step\n",
      "Optimizer = adam, epochs = 1, rmse = 0.8333197373610276, mape = 1.7940779349869547\n"
     ]
    }
   ],
   "source": [
    "# predict LSTM model with 30 look back\n",
    "predictions = model(x_train, y_train, x_test, y_test, 'adam', 1, scaler)\n",
    "predictions = model(x_train, y_train, x_test, y_test, 'adam', 10, scaler)\n",
    "predictions = model(x_train, y_train, x_test, y_test, 'adam', 20, scaler)\n",
    "predictions = model(x_train, y_train, x_test, y_test, 'adam', 30, scaler)\n",
    "\n",
    "predictions = model(x_train, y_train, x_test, y_test, 'sgd', 1, scaler)\n",
    "predictions = model(x_train, y_train, x_test, y_test, 'sgd', 10, scaler)\n",
    "predictions = model(x_train, y_train, x_test, y_test, 'sgd', 20, scaler)\n",
    "predictions = model(x_train, y_train, x_test, y_test, 'sgd', 30, scaler)\n",
    "\n",
    "predictions = model(x_train, y_train, x_test, y_test, 'rmsprop', 1, scaler)\n",
    "predictions = model(x_train, y_train, x_test, y_test, 'rmsprop', 10, scaler)\n",
    "predictions = model(x_train, y_train, x_test, y_test, 'rmsprop', 20, scaler)\n",
    "predictions = model(x_train, y_train, x_test, y_test, 'rmsprop', 30, scaler)"
   ]
  },
  {
   "cell_type": "code",
   "execution_count": null,
   "id": "38562a48",
   "metadata": {},
   "outputs": [],
   "source": [
    "# set train and test data for 60 look back\n",
    "x_train, y_train, x_test, y_test, data, training_data_len, scaler = train_test_data(df_CPALL, 60)"
   ]
  },
  {
   "cell_type": "code",
   "execution_count": null,
   "id": "d7e2e289",
   "metadata": {},
   "outputs": [],
   "source": [
    "# predict LSTM model with 60 look back\n",
    "predictions = model(x_train, y_train, x_test, y_test, 'adam', 1, scaler)\n",
    "predictions = model(x_train, y_train, x_test, y_test, 'adam', 10, scaler)\n",
    "predictions = model(x_train, y_train, x_test, y_test, 'adam', 20, scaler)\n",
    "predictions = model(x_train, y_train, x_test, y_test, 'adam', 30, scaler)\n",
    "\n",
    "predictions = model(x_train, y_train, x_test, y_test, 'sgd', 1, scaler)\n",
    "predictions = model(x_train, y_train, x_test, y_test, 'sgd', 10, scaler)\n",
    "predictions = model(x_train, y_train, x_test, y_test, 'sgd', 20, scaler)\n",
    "predictions = model(x_train, y_train, x_test, y_test, 'sgd', 30, scaler)\n",
    "\n",
    "predictions = model(x_train, y_train, x_test, y_test, 'rmsprop', 1, scaler)\n",
    "predictions = model(x_train, y_train, x_test, y_test, 'rmsprop', 10, scaler)\n",
    "predictions = model(x_train, y_train, x_test, y_test, 'rmsprop', 20, scaler)\n",
    "predictions = model(x_train, y_train, x_test, y_test, 'rmsprop', 30, scaler)"
   ]
  },
  {
   "cell_type": "code",
   "execution_count": null,
   "id": "4da595df",
   "metadata": {},
   "outputs": [],
   "source": [
    "# predict thesis CNN model\n",
    "predictions = thesis_cnn_model(x_train, y_train, x_test, y_test, 'adam', 10, scaler, 3)\n",
    "predictions = thesis_cnn_model(x_train, y_train, x_test, y_test, 'adam', 20, scaler, 3)\n",
    "predictions = thesis_cnn_model(x_train, y_train, x_test, y_test, 'adam', 30, scaler, 3)\n",
    "predictions = thesis_cnn_model(x_train, y_train, x_test, y_test, 'adam', 100, scaler, 3)\n",
    "predictions = thesis_cnn_model(x_train, y_train, x_test, y_test, 'adam', 200, scaler, 3)\n",
    "predictions = thesis_cnn_model(x_train, y_train, x_test, y_test, 'adam', 300, scaler, 3)\n",
    "\n",
    "predictions = thesis_cnn_model(x_train, y_train, x_test, y_test, 'adam', 10, scaler, 5)\n",
    "predictions = thesis_cnn_model(x_train, y_train, x_test, y_test, 'adam', 20, scaler, 5)\n",
    "predictions = thesis_cnn_model(x_train, y_train, x_test, y_test, 'adam', 30, scaler, 5)\n",
    "predictions = thesis_cnn_model(x_train, y_train, x_test, y_test, 'adam', 100, scaler, 5)\n",
    "predictions = thesis_cnn_model(x_train, y_train, x_test, y_test, 'adam', 200, scaler, 5)\n",
    "predictions = thesis_cnn_model(x_train, y_train, x_test, y_test, 'adam', 300, scaler, 5)\n",
    "\n",
    "predictions = thesis_cnn_model(x_train, y_train, x_test, y_test, 'adam', 10, scaler,  7)\n",
    "predictions = thesis_cnn_model(x_train, y_train, x_test, y_test, 'adam', 20, scaler,  7)\n",
    "predictions = thesis_cnn_model(x_train, y_train, x_test, y_test, 'adam', 30, scaler,  7)\n",
    "predictions = thesis_cnn_model(x_train, y_train, x_test, y_test, 'adam', 100, scaler, 7)\n",
    "predictions = thesis_cnn_model(x_train, y_train, x_test, y_test, 'adam', 200, scaler, 7)\n",
    "predictions = thesis_cnn_model(x_train, y_train, x_test, y_test, 'adam', 300, scaler, 7)\n",
    "\n",
    "predictions = thesis_cnn_model(x_train, y_train, x_test, y_test, 'sgd', 10, scaler, 3)\n",
    "predictions = thesis_cnn_model(x_train, y_train, x_test, y_test, 'sgd', 20, scaler, 3)\n",
    "predictions = thesis_cnn_model(x_train, y_train, x_test, y_test, 'sgd', 30, scaler, 3)\n",
    "predictions = thesis_cnn_model(x_train, y_train, x_test, y_test, 'sgd', 100, scaler, 3)\n",
    "predictions = thesis_cnn_model(x_train, y_train, x_test, y_test, 'sgd', 200, scaler, 3)\n",
    "predictions = thesis_cnn_model(x_train, y_train, x_test, y_test, 'sgd', 300, scaler, 3)\n",
    "\n",
    "predictions = thesis_cnn_model(x_train, y_train, x_test, y_test, 'sgd', 10, scaler, 5)\n",
    "predictions = thesis_cnn_model(x_train, y_train, x_test, y_test, 'sgd', 20, scaler, 5)\n",
    "predictions = thesis_cnn_model(x_train, y_train, x_test, y_test, 'sgd', 30, scaler, 5)\n",
    "predictions = thesis_cnn_model(x_train, y_train, x_test, y_test, 'sgd', 100, scaler, 5)\n",
    "predictions = thesis_cnn_model(x_train, y_train, x_test, y_test, 'sgd', 200, scaler, 5)\n",
    "predictions = thesis_cnn_model(x_train, y_train, x_test, y_test, 'sgd', 300, scaler, 5)\n",
    "\n",
    "predictions = thesis_cnn_model(x_train, y_train, x_test, y_test, 'sgd', 10, scaler,  7)\n",
    "predictions = thesis_cnn_model(x_train, y_train, x_test, y_test, 'sgd', 20, scaler,  7)\n",
    "predictions = thesis_cnn_model(x_train, y_train, x_test, y_test, 'sgd', 30, scaler,  7)\n",
    "predictions = thesis_cnn_model(x_train, y_train, x_test, y_test, 'sgd', 100, scaler, 7)\n",
    "predictions = thesis_cnn_model(x_train, y_train, x_test, y_test, 'sgd', 200, scaler, 7)\n",
    "predictions = thesis_cnn_model(x_train, y_train, x_test, y_test, 'sgd', 300, scaler, 7)\n",
    "\n",
    "predictions = thesis_cnn_model(x_train, y_train, x_test, y_test, 'rmsprop', 10, scaler, 3)\n",
    "predictions = thesis_cnn_model(x_train, y_train, x_test, y_test, 'rmsprop', 20, scaler, 3)\n",
    "predictions = thesis_cnn_model(x_train, y_train, x_test, y_test, 'rmsprop', 30, scaler, 3)\n",
    "predictions = thesis_cnn_model(x_train, y_train, x_test, y_test, 'rmsprop', 100, scaler, 3)\n",
    "predictions = thesis_cnn_model(x_train, y_train, x_test, y_test, 'rmsprop', 200, scaler, 3)\n",
    "predictions = thesis_cnn_model(x_train, y_train, x_test, y_test, 'rmsprop', 300, scaler, 3)\n",
    "\n",
    "predictions = thesis_cnn_model(x_train, y_train, x_test, y_test, 'rmsprop', 10, scaler, 5)\n",
    "predictions = thesis_cnn_model(x_train, y_train, x_test, y_test, 'rmsprop', 20, scaler, 5)\n",
    "predictions = thesis_cnn_model(x_train, y_train, x_test, y_test, 'rmsprop', 30, scaler, 5)\n",
    "predictions = thesis_cnn_model(x_train, y_train, x_test, y_test, 'rmsprop', 100, scaler, 5)\n",
    "predictions = thesis_cnn_model(x_train, y_train, x_test, y_test, 'rmsprop', 200, scaler, 5)\n",
    "predictions = thesis_cnn_model(x_train, y_train, x_test, y_test, 'rmsprop', 300, scaler, 5)\n",
    "\n",
    "predictions = thesis_cnn_model(x_train, y_train, x_test, y_test, 'rmsprop', 10, scaler,  7)\n",
    "predictions = thesis_cnn_model(x_train, y_train, x_test, y_test, 'rmsprop', 20, scaler,  7)\n",
    "predictions = thesis_cnn_model(x_train, y_train, x_test, y_test, 'rmsprop', 30, scaler,  7)\n",
    "predictions = thesis_cnn_model(x_train, y_train, x_test, y_test, 'rmsprop', 100, scaler, 7)\n",
    "predictions = thesis_cnn_model(x_train, y_train, x_test, y_test, 'rmsprop', 200, scaler, 7)\n",
    "predictions = thesis_cnn_model(x_train, y_train, x_test, y_test, 'rmsprop', 300, scaler, 7)"
   ]
  },
  {
   "cell_type": "code",
   "execution_count": null,
   "id": "d839ff16",
   "metadata": {},
   "outputs": [],
   "source": [
    "# predict new CNN model\n",
    "predictions = cnn_model(x_train, y_train, x_test, y_test, 'adam', 10, scaler, 3)\n",
    "predictions = cnn_model(x_train, y_train, x_test, y_test, 'adam', 20, scaler, 3)\n",
    "predictions = cnn_model(x_train, y_train, x_test, y_test, 'adam', 30, scaler, 3)\n",
    "predictions = cnn_model(x_train, y_train, x_test, y_test, 'adam', 100, scaler, 3)\n",
    "predictions = cnn_model(x_train, y_train, x_test, y_test, 'adam', 200, scaler, 3)\n",
    "predictions = cnn_model(x_train, y_train, x_test, y_test, 'adam', 300, scaler, 3)\n",
    "\n",
    "predictions = cnn_model(x_train, y_train, x_test, y_test, 'adam', 10, scaler, 5)\n",
    "predictions = cnn_model(x_train, y_train, x_test, y_test, 'adam', 20, scaler, 5)\n",
    "predictions = cnn_model(x_train, y_train, x_test, y_test, 'adam', 30, scaler, 5)\n",
    "predictions = cnn_model(x_train, y_train, x_test, y_test, 'adam', 100, scaler, 5)\n",
    "predictions = cnn_model(x_train, y_train, x_test, y_test, 'adam', 200, scaler, 5)\n",
    "predictions = cnn_model(x_train, y_train, x_test, y_test, 'adam', 300, scaler, 5)\n",
    "\n",
    "predictions = cnn_model(x_train, y_train, x_test, y_test, 'adam', 10, scaler,  7)\n",
    "predictions = cnn_model(x_train, y_train, x_test, y_test, 'adam', 20, scaler,  7)\n",
    "predictions = cnn_model(x_train, y_train, x_test, y_test, 'adam', 30, scaler,  7)\n",
    "predictions = cnn_model(x_train, y_train, x_test, y_test, 'adam', 100, scaler, 7)\n",
    "predictions = cnn_model(x_train, y_train, x_test, y_test, 'adam', 200, scaler, 7)\n",
    "predictions = cnn_model(x_train, y_train, x_test, y_test, 'adam', 300, scaler, 7)\n",
    "\n",
    "predictions = cnn_model(x_train, y_train, x_test, y_test, 'sgd', 10, scaler, 3)\n",
    "predictions = cnn_model(x_train, y_train, x_test, y_test, 'sgd', 20, scaler, 3)\n",
    "predictions = cnn_model(x_train, y_train, x_test, y_test, 'sgd', 30, scaler, 3)\n",
    "predictions = cnn_model(x_train, y_train, x_test, y_test, 'sgd', 100, scaler, 3)\n",
    "predictions = cnn_model(x_train, y_train, x_test, y_test, 'sgd', 200, scaler, 3)\n",
    "predictions = cnn_model(x_train, y_train, x_test, y_test, 'sgd', 300, scaler, 3)\n",
    "\n",
    "predictions = cnn_model(x_train, y_train, x_test, y_test, 'sgd', 10, scaler, 5)\n",
    "predictions = cnn_model(x_train, y_train, x_test, y_test, 'sgd', 20, scaler, 5)\n",
    "predictions = cnn_model(x_train, y_train, x_test, y_test, 'sgd', 30, scaler, 5)\n",
    "predictions = cnn_model(x_train, y_train, x_test, y_test, 'sgd', 100, scaler, 5)\n",
    "predictions = cnn_model(x_train, y_train, x_test, y_test, 'sgd', 200, scaler, 5)\n",
    "predictions = cnn_model(x_train, y_train, x_test, y_test, 'sgd', 300, scaler, 5)\n",
    "\n",
    "predictions = cnn_model(x_train, y_train, x_test, y_test, 'sgd', 10, scaler,  7)\n",
    "predictions = cnn_model(x_train, y_train, x_test, y_test, 'sgd', 20, scaler,  7)\n",
    "predictions = cnn_model(x_train, y_train, x_test, y_test, 'sgd', 30, scaler,  7)\n",
    "predictions = cnn_model(x_train, y_train, x_test, y_test, 'sgd', 100, scaler, 7)\n",
    "predictions = cnn_model(x_train, y_train, x_test, y_test, 'sgd', 200, scaler, 7)\n",
    "predictions = cnn_model(x_train, y_train, x_test, y_test, 'sgd', 300, scaler, 7)\n",
    "\n",
    "predictions = cnn_model(x_train, y_train, x_test, y_test, 'rmsprop', 10, scaler, 3)\n",
    "predictions = cnn_model(x_train, y_train, x_test, y_test, 'rmsprop', 20, scaler, 3)\n",
    "predictions = cnn_model(x_train, y_train, x_test, y_test, 'rmsprop', 30, scaler, 3)\n",
    "predictions = cnn_model(x_train, y_train, x_test, y_test, 'rmsprop', 100, scaler, 3)\n",
    "predictions = cnn_model(x_train, y_train, x_test, y_test, 'rmsprop', 200, scaler, 3)\n",
    "predictions = cnn_model(x_train, y_train, x_test, y_test, 'rmsprop', 300, scaler, 3)\n",
    "\n",
    "predictions = cnn_model(x_train, y_train, x_test, y_test, 'rmsprop', 10, scaler, 5)\n",
    "predictions = cnn_model(x_train, y_train, x_test, y_test, 'rmsprop', 20, scaler, 5)\n",
    "predictions = cnn_model(x_train, y_train, x_test, y_test, 'rmsprop', 30, scaler, 5)\n",
    "predictions = cnn_model(x_train, y_train, x_test, y_test, 'rmsprop', 100, scaler, 5)\n",
    "predictions = cnn_model(x_train, y_train, x_test, y_test, 'rmsprop', 200, scaler, 5)\n",
    "predictions = cnn_model(x_train, y_train, x_test, y_test, 'rmsprop', 300, scaler, 5)\n",
    "\n",
    "predictions = cnn_model(x_train, y_train, x_test, y_test, 'rmsprop', 10, scaler,  7)\n",
    "predictions = cnn_model(x_train, y_train, x_test, y_test, 'rmsprop', 20, scaler,  7)\n",
    "predictions = cnn_model(x_train, y_train, x_test, y_test, 'rmsprop', 30, scaler,  7)\n",
    "predictions = cnn_model(x_train, y_train, x_test, y_test, 'rmsprop', 100, scaler, 7)\n",
    "predictions = cnn_model(x_train, y_train, x_test, y_test, 'rmsprop', 200, scaler, 7)\n",
    "predictions = cnn_model(x_train, y_train, x_test, y_test, 'rmsprop', 300, scaler, 7)"
   ]
  },
  {
   "cell_type": "code",
   "execution_count": 32,
   "id": "2747f990",
   "metadata": {},
   "outputs": [
    {
     "name": "stderr",
     "output_type": "stream",
     "text": [
      "C:\\Users\\TEEM\\AppData\\Local\\Temp\\ipykernel_94812\\1868488282.py:7: SettingWithCopyWarning: \n",
      "A value is trying to be set on a copy of a slice from a DataFrame.\n",
      "Try using .loc[row_indexer,col_indexer] = value instead\n",
      "\n",
      "See the caveats in the documentation: https://pandas.pydata.org/pandas-docs/stable/user_guide/indexing.html#returning-a-view-versus-a-copy\n",
      "  valid['Predictions'] = predictions\n"
     ]
    },
    {
     "data": {
      "image/png": "[encoded data removed]",
      "text/plain": [
       "<Figure size 504x360 with 1 Axes>"
      ]
     },
     "metadata": {
      "needs_background": "light"
     },
     "output_type": "display_data"
    }
   ],
   "source": [
    "# draw prediction graph\n",
    "valid = plot_graph(data, predictions, training_data_len)"
   ]
  },
  {
   "cell_type": "code",
   "execution_count": null,
   "id": "730db6bc",
   "metadata": {},
   "outputs": [],
   "source": [
    "# show prediction data\n",
    "valid"
   ]
  },
  {
   "cell_type": "markdown",
   "id": "1d3385a2",
   "metadata": {},
   "source": [
    "# AOT (Airports of Thailand PCL)"
   ]
  },
  {
   "cell_type": "code",
   "execution_count": 17,
   "id": "4c8218eb",
   "metadata": {},
   "outputs": [
    {
     "name": "stdout",
     "output_type": "stream",
     "text": [
      "[*********************100%***********************]  1 of 1 completed\n"
     ]
    },
    {
     "data": {
      "image/png": "[encoded data removed]",
      "text/plain": [
       "<Figure size 432x288 with 1 Axes>"
      ]
     },
     "metadata": {
      "needs_background": "light"
     },
     "output_type": "display_data"
    }
   ],
   "source": [
    "# get stock data (2001)\n",
    "df_AOT = get_data(\"AOT.BK\", \"2001-01-01\")\n",
    "\n",
    "# draw data graph\n",
    "plot_data(df_AOT, \"AOT\")"
   ]
  },
  {
   "cell_type": "code",
   "execution_count": 18,
   "id": "c09bf64b",
   "metadata": {},
   "outputs": [],
   "source": [
    "# set train and test data for 30 look back\n",
    "x_train, y_train, x_test, y_test, data, training_data_len, scaler = train_test_data(df_AOT, 30)"
   ]
  },
  {
   "cell_type": "code",
   "execution_count": 19,
   "id": "a54cee04",
   "metadata": {},
   "outputs": [
    {
     "name": "stdout",
     "output_type": "stream",
     "text": [
      "2892/2892 [==============================] - 59s 18ms/step - loss: 3.9379e-04\n",
      "23/23 [==============================] - 2s 9ms/step\n",
      "Optimizer = rmsprop, epochs = 1, rmse = 0.5178457861077296, mape = 2.938334038271158\n"
     ]
    }
   ],
   "source": [
    "# predict LSTM model with 30 look back\n",
    "predictions = model(x_train, y_train, x_test, y_test, 'adam', 1, scaler)\n",
    "predictions = model(x_train, y_train, x_test, y_test, 'adam', 10, scaler)\n",
    "predictions = model(x_train, y_train, x_test, y_test, 'adam', 20, scaler)\n",
    "predictions = model(x_train, y_train, x_test, y_test, 'adam', 30, scaler)\n",
    "\n",
    "predictions = model(x_train, y_train, x_test, y_test, 'sgd', 1, scaler)\n",
    "predictions = model(x_train, y_train, x_test, y_test, 'sgd', 10, scaler)\n",
    "predictions = model(x_train, y_train, x_test, y_test, 'sgd', 20, scaler)\n",
    "predictions = model(x_train, y_train, x_test, y_test, 'sgd', 30, scaler)\n",
    "\n",
    "predictions = model(x_train, y_train, x_test, y_test, 'rmsprop', 1, scaler)\n",
    "predictions = model(x_train, y_train, x_test, y_test, 'rmsprop', 10, scaler)\n",
    "predictions = model(x_train, y_train, x_test, y_test, 'rmsprop', 20, scaler)\n",
    "predictions = model(x_train, y_train, x_test, y_test, 'rmsprop', 30, scaler)"
   ]
  },
  {
   "cell_type": "code",
   "execution_count": null,
   "id": "ffaabf04",
   "metadata": {},
   "outputs": [],
   "source": [
    "# set train and test data for 60 look back\n",
    "x_train, y_train, x_test, y_test, data, training_data_len, scaler = train_test_data(df_AOT, 60)"
   ]
  },
  {
   "cell_type": "code",
   "execution_count": 11,
   "id": "b061b01d",
   "metadata": {},
   "outputs": [
    {
     "name": "stdout",
     "output_type": "stream",
     "text": [
      "2862/2862 [==============================] - 68s 22ms/step - loss: 2.4165e-04\n",
      "23/23 [==============================] - 1s 11ms/step\n",
      "Optimizer = adam, epochs = 1, rmse = 2.7009599711797008, mape = 4.916445474671951\n",
      "Epoch 1/10\n",
      "2862/2862 [==============================] - 92s 31ms/step - loss: 2.8512e-04\n",
      "Epoch 2/10\n",
      "2862/2862 [==============================] - 81s 28ms/step - loss: 1.2091e-04\n",
      "Epoch 3/10\n",
      "2862/2862 [==============================] - 68s 24ms/step - loss: 9.9458e-05\n",
      "Epoch 4/10\n",
      "2862/2862 [==============================] - 68s 24ms/step - loss: 6.1835e-05\n",
      "Epoch 5/10\n",
      "2862/2862 [==============================] - 67s 24ms/step - loss: 6.5931e-05\n",
      "Epoch 6/10\n",
      "2862/2862 [==============================] - 66s 23ms/step - loss: 4.7243e-05\n",
      "Epoch 7/10\n",
      "2862/2862 [==============================] - 73s 25ms/step - loss: 5.5004e-05\n",
      "Epoch 8/10\n",
      "2862/2862 [==============================] - 66s 23ms/step - loss: 4.4787e-05\n",
      "Epoch 9/10\n",
      "2862/2862 [==============================] - 67s 23ms/step - loss: 4.7900e-05\n",
      "Epoch 10/10\n",
      "2862/2862 [==============================] - 92s 32ms/step - loss: 3.9127e-05\n",
      "23/23 [==============================] - 3s 17ms/step\n",
      "Optimizer = adam, epochs = 10, rmse = 0.7441842013842439, mape = 2.248592776230471\n"
     ]
    }
   ],
   "source": [
    "# predict LSTM model with 60 look back\n",
    "predictions = model(x_train, y_train, x_test, y_test, 'adam', 1, scaler)\n",
    "predictions = model(x_train, y_train, x_test, y_test, 'adam', 10, scaler)\n",
    "predictions = model(x_train, y_train, x_test, y_test, 'adam', 20, scaler)\n",
    "predictions = model(x_train, y_train, x_test, y_test, 'adam', 30, scaler)\n",
    "\n",
    "predictions = model(x_train, y_train, x_test, y_test, 'sgd', 1, scaler)\n",
    "predictions = model(x_train, y_train, x_test, y_test, 'sgd', 10, scaler)\n",
    "predictions = model(x_train, y_train, x_test, y_test, 'sgd', 20, scaler)\n",
    "predictions = model(x_train, y_train, x_test, y_test, 'sgd', 30, scaler)\n",
    "\n",
    "predictions = model(x_train, y_train, x_test, y_test, 'rmsprop', 1, scaler)\n",
    "predictions = model(x_train, y_train, x_test, y_test, 'rmsprop', 10, scaler)\n",
    "predictions = model(x_train, y_train, x_test, y_test, 'rmsprop', 20, scaler)\n",
    "predictions = model(x_train, y_train, x_test, y_test, 'rmsprop', 30, scaler)"
   ]
  },
  {
   "cell_type": "code",
   "execution_count": 12,
   "id": "234aadab",
   "metadata": {},
   "outputs": [
    {
     "name": "stderr",
     "output_type": "stream",
     "text": [
      "C:\\Users\\TEEM\\AppData\\Local\\Temp\\ipykernel_72204\\2295167687.py:7: SettingWithCopyWarning: \n",
      "A value is trying to be set on a copy of a slice from a DataFrame.\n",
      "Try using .loc[row_indexer,col_indexer] = value instead\n",
      "\n",
      "See the caveats in the documentation: https://pandas.pydata.org/pandas-docs/stable/user_guide/indexing.html#returning-a-view-versus-a-copy\n",
      "  valid['Predictions'] = predictions\n"
     ]
    },
    {
     "data": {
      "image/png": "[encoded data removed]",
      "text/plain": [
       "<Figure size 504x360 with 1 Axes>"
      ]
     },
     "metadata": {
      "needs_background": "light"
     },
     "output_type": "display_data"
    }
   ],
   "source": [
    "# predict thesis CNN model\n",
    "predictions = thesis_cnn_model(x_train, y_train, x_test, y_test, 'adam', 10, scaler, 3)\n",
    "predictions = thesis_cnn_model(x_train, y_train, x_test, y_test, 'adam', 20, scaler, 3)\n",
    "predictions = thesis_cnn_model(x_train, y_train, x_test, y_test, 'adam', 30, scaler, 3)\n",
    "predictions = thesis_cnn_model(x_train, y_train, x_test, y_test, 'adam', 100, scaler, 3)\n",
    "predictions = thesis_cnn_model(x_train, y_train, x_test, y_test, 'adam', 200, scaler, 3)\n",
    "predictions = thesis_cnn_model(x_train, y_train, x_test, y_test, 'adam', 300, scaler, 3)\n",
    "\n",
    "predictions = thesis_cnn_model(x_train, y_train, x_test, y_test, 'adam', 10, scaler, 5)\n",
    "predictions = thesis_cnn_model(x_train, y_train, x_test, y_test, 'adam', 20, scaler, 5)\n",
    "predictions = thesis_cnn_model(x_train, y_train, x_test, y_test, 'adam', 30, scaler, 5)\n",
    "predictions = thesis_cnn_model(x_train, y_train, x_test, y_test, 'adam', 100, scaler, 5)\n",
    "predictions = thesis_cnn_model(x_train, y_train, x_test, y_test, 'adam', 200, scaler, 5)\n",
    "predictions = thesis_cnn_model(x_train, y_train, x_test, y_test, 'adam', 300, scaler, 5)\n",
    "\n",
    "predictions = thesis_cnn_model(x_train, y_train, x_test, y_test, 'adam', 10, scaler,  7)\n",
    "predictions = thesis_cnn_model(x_train, y_train, x_test, y_test, 'adam', 20, scaler,  7)\n",
    "predictions = thesis_cnn_model(x_train, y_train, x_test, y_test, 'adam', 30, scaler,  7)\n",
    "predictions = thesis_cnn_model(x_train, y_train, x_test, y_test, 'adam', 100, scaler, 7)\n",
    "predictions = thesis_cnn_model(x_train, y_train, x_test, y_test, 'adam', 200, scaler, 7)\n",
    "predictions = thesis_cnn_model(x_train, y_train, x_test, y_test, 'adam', 300, scaler, 7)\n",
    "\n",
    "predictions = thesis_cnn_model(x_train, y_train, x_test, y_test, 'sgd', 10, scaler, 3)\n",
    "predictions = thesis_cnn_model(x_train, y_train, x_test, y_test, 'sgd', 20, scaler, 3)\n",
    "predictions = thesis_cnn_model(x_train, y_train, x_test, y_test, 'sgd', 30, scaler, 3)\n",
    "predictions = thesis_cnn_model(x_train, y_train, x_test, y_test, 'sgd', 100, scaler, 3)\n",
    "predictions = thesis_cnn_model(x_train, y_train, x_test, y_test, 'sgd', 200, scaler, 3)\n",
    "predictions = thesis_cnn_model(x_train, y_train, x_test, y_test, 'sgd', 300, scaler, 3)\n",
    "\n",
    "predictions = thesis_cnn_model(x_train, y_train, x_test, y_test, 'sgd', 10, scaler, 5)\n",
    "predictions = thesis_cnn_model(x_train, y_train, x_test, y_test, 'sgd', 20, scaler, 5)\n",
    "predictions = thesis_cnn_model(x_train, y_train, x_test, y_test, 'sgd', 30, scaler, 5)\n",
    "predictions = thesis_cnn_model(x_train, y_train, x_test, y_test, 'sgd', 100, scaler, 5)\n",
    "predictions = thesis_cnn_model(x_train, y_train, x_test, y_test, 'sgd', 200, scaler, 5)\n",
    "predictions = thesis_cnn_model(x_train, y_train, x_test, y_test, 'sgd', 300, scaler, 5)\n",
    "\n",
    "predictions = thesis_cnn_model(x_train, y_train, x_test, y_test, 'sgd', 10, scaler,  7)\n",
    "predictions = thesis_cnn_model(x_train, y_train, x_test, y_test, 'sgd', 20, scaler,  7)\n",
    "predictions = thesis_cnn_model(x_train, y_train, x_test, y_test, 'sgd', 30, scaler,  7)\n",
    "predictions = thesis_cnn_model(x_train, y_train, x_test, y_test, 'sgd', 100, scaler, 7)\n",
    "predictions = thesis_cnn_model(x_train, y_train, x_test, y_test, 'sgd', 200, scaler, 7)\n",
    "predictions = thesis_cnn_model(x_train, y_train, x_test, y_test, 'sgd', 300, scaler, 7)\n",
    "\n",
    "predictions = thesis_cnn_model(x_train, y_train, x_test, y_test, 'rmsprop', 10, scaler, 3)\n",
    "predictions = thesis_cnn_model(x_train, y_train, x_test, y_test, 'rmsprop', 20, scaler, 3)\n",
    "predictions = thesis_cnn_model(x_train, y_train, x_test, y_test, 'rmsprop', 30, scaler, 3)\n",
    "predictions = thesis_cnn_model(x_train, y_train, x_test, y_test, 'rmsprop', 100, scaler, 3)\n",
    "predictions = thesis_cnn_model(x_train, y_train, x_test, y_test, 'rmsprop', 200, scaler, 3)\n",
    "predictions = thesis_cnn_model(x_train, y_train, x_test, y_test, 'rmsprop', 300, scaler, 3)\n",
    "\n",
    "predictions = thesis_cnn_model(x_train, y_train, x_test, y_test, 'rmsprop', 10, scaler, 5)\n",
    "predictions = thesis_cnn_model(x_train, y_train, x_test, y_test, 'rmsprop', 20, scaler, 5)\n",
    "predictions = thesis_cnn_model(x_train, y_train, x_test, y_test, 'rmsprop', 30, scaler, 5)\n",
    "predictions = thesis_cnn_model(x_train, y_train, x_test, y_test, 'rmsprop', 100, scaler, 5)\n",
    "predictions = thesis_cnn_model(x_train, y_train, x_test, y_test, 'rmsprop', 200, scaler, 5)\n",
    "predictions = thesis_cnn_model(x_train, y_train, x_test, y_test, 'rmsprop', 300, scaler, 5)\n",
    "\n",
    "predictions = thesis_cnn_model(x_train, y_train, x_test, y_test, 'rmsprop', 10, scaler,  7)\n",
    "predictions = thesis_cnn_model(x_train, y_train, x_test, y_test, 'rmsprop', 20, scaler,  7)\n",
    "predictions = thesis_cnn_model(x_train, y_train, x_test, y_test, 'rmsprop', 30, scaler,  7)\n",
    "predictions = thesis_cnn_model(x_train, y_train, x_test, y_test, 'rmsprop', 100, scaler, 7)\n",
    "predictions = thesis_cnn_model(x_train, y_train, x_test, y_test, 'rmsprop', 200, scaler, 7)\n",
    "predictions = thesis_cnn_model(x_train, y_train, x_test, y_test, 'rmsprop', 300, scaler, 7)"
   ]
  },
  {
   "cell_type": "code",
   "execution_count": 13,
   "id": "ed6fa67d",
   "metadata": {},
   "outputs": [
    {
     "name": "stdout",
     "output_type": "stream",
     "text": [
      "2862/2862 [==============================] - 126s 39ms/step - loss: 0.0013\n",
      "23/23 [==============================] - 7s 25ms/step\n",
      "Optimizer = sgd, epochs = 1, rmse = 4.635208756956335, mape = 7.98886185327871\n",
      "Epoch 1/10\n",
      "2862/2862 [==============================] - 138s 42ms/step - loss: 0.0022\n",
      "Epoch 2/10\n",
      "2862/2862 [==============================] - 116s 41ms/step - loss: 7.2279e-05\n",
      "Epoch 3/10\n",
      "2862/2862 [==============================] - 117s 41ms/step - loss: 7.1779e-05\n",
      "Epoch 4/10\n",
      "2862/2862 [==============================] - 137s 48ms/step - loss: 7.2061e-05\n",
      "Epoch 5/10\n",
      "2862/2862 [==============================] - 128s 45ms/step - loss: 7.1639e-05\n",
      "Epoch 6/10\n",
      "2862/2862 [==============================] - 124s 43ms/step - loss: 7.0800e-05\n",
      "Epoch 7/10\n",
      "2862/2862 [==============================] - 121s 42ms/step - loss: 6.9292e-05\n",
      "Epoch 8/10\n",
      "2862/2862 [==============================] - 108s 38ms/step - loss: 7.0257e-05\n",
      "Epoch 9/10\n",
      "2862/2862 [==============================] - 101s 35ms/step - loss: 6.8481e-05\n",
      "Epoch 10/10\n",
      "2862/2862 [==============================] - 96s 34ms/step - loss: 6.8530e-05\n",
      "23/23 [==============================] - 11s 21ms/step\n",
      "Optimizer = sgd, epochs = 10, rmse = 4.029509160290026, mape = 6.942204261113012\n"
     ]
    }
   ],
   "source": [
    "# predict new CNN model\n",
    "predictions = cnn_model(x_train, y_train, x_test, y_test, 'adam', 10, scaler, 3)\n",
    "predictions = cnn_model(x_train, y_train, x_test, y_test, 'adam', 20, scaler, 3)\n",
    "predictions = cnn_model(x_train, y_train, x_test, y_test, 'adam', 30, scaler, 3)\n",
    "predictions = cnn_model(x_train, y_train, x_test, y_test, 'adam', 100, scaler, 3)\n",
    "predictions = cnn_model(x_train, y_train, x_test, y_test, 'adam', 200, scaler, 3)\n",
    "predictions = cnn_model(x_train, y_train, x_test, y_test, 'adam', 300, scaler, 3)\n",
    "\n",
    "predictions = cnn_model(x_train, y_train, x_test, y_test, 'adam', 10, scaler, 5)\n",
    "predictions = cnn_model(x_train, y_train, x_test, y_test, 'adam', 20, scaler, 5)\n",
    "predictions = cnn_model(x_train, y_train, x_test, y_test, 'adam', 30, scaler, 5)\n",
    "predictions = cnn_model(x_train, y_train, x_test, y_test, 'adam', 100, scaler, 5)\n",
    "predictions = cnn_model(x_train, y_train, x_test, y_test, 'adam', 200, scaler, 5)\n",
    "predictions = cnn_model(x_train, y_train, x_test, y_test, 'adam', 300, scaler, 5)\n",
    "\n",
    "predictions = cnn_model(x_train, y_train, x_test, y_test, 'adam', 10, scaler,  7)\n",
    "predictions = cnn_model(x_train, y_train, x_test, y_test, 'adam', 20, scaler,  7)\n",
    "predictions = cnn_model(x_train, y_train, x_test, y_test, 'adam', 30, scaler,  7)\n",
    "predictions = cnn_model(x_train, y_train, x_test, y_test, 'adam', 100, scaler, 7)\n",
    "predictions = cnn_model(x_train, y_train, x_test, y_test, 'adam', 200, scaler, 7)\n",
    "predictions = cnn_model(x_train, y_train, x_test, y_test, 'adam', 300, scaler, 7)\n",
    "\n",
    "predictions = cnn_model(x_train, y_train, x_test, y_test, 'sgd', 10, scaler, 3)\n",
    "predictions = cnn_model(x_train, y_train, x_test, y_test, 'sgd', 20, scaler, 3)\n",
    "predictions = cnn_model(x_train, y_train, x_test, y_test, 'sgd', 30, scaler, 3)\n",
    "predictions = cnn_model(x_train, y_train, x_test, y_test, 'sgd', 100, scaler, 3)\n",
    "predictions = cnn_model(x_train, y_train, x_test, y_test, 'sgd', 200, scaler, 3)\n",
    "predictions = cnn_model(x_train, y_train, x_test, y_test, 'sgd', 300, scaler, 3)\n",
    "\n",
    "predictions = cnn_model(x_train, y_train, x_test, y_test, 'sgd', 10, scaler, 5)\n",
    "predictions = cnn_model(x_train, y_train, x_test, y_test, 'sgd', 20, scaler, 5)\n",
    "predictions = cnn_model(x_train, y_train, x_test, y_test, 'sgd', 30, scaler, 5)\n",
    "predictions = cnn_model(x_train, y_train, x_test, y_test, 'sgd', 100, scaler, 5)\n",
    "predictions = cnn_model(x_train, y_train, x_test, y_test, 'sgd', 200, scaler, 5)\n",
    "predictions = cnn_model(x_train, y_train, x_test, y_test, 'sgd', 300, scaler, 5)\n",
    "\n",
    "predictions = cnn_model(x_train, y_train, x_test, y_test, 'sgd', 10, scaler,  7)\n",
    "predictions = cnn_model(x_train, y_train, x_test, y_test, 'sgd', 20, scaler,  7)\n",
    "predictions = cnn_model(x_train, y_train, x_test, y_test, 'sgd', 30, scaler,  7)\n",
    "predictions = cnn_model(x_train, y_train, x_test, y_test, 'sgd', 100, scaler, 7)\n",
    "predictions = cnn_model(x_train, y_train, x_test, y_test, 'sgd', 200, scaler, 7)\n",
    "predictions = cnn_model(x_train, y_train, x_test, y_test, 'sgd', 300, scaler, 7)\n",
    "\n",
    "predictions = cnn_model(x_train, y_train, x_test, y_test, 'rmsprop', 10, scaler, 3)\n",
    "predictions = cnn_model(x_train, y_train, x_test, y_test, 'rmsprop', 20, scaler, 3)\n",
    "predictions = cnn_model(x_train, y_train, x_test, y_test, 'rmsprop', 30, scaler, 3)\n",
    "predictions = cnn_model(x_train, y_train, x_test, y_test, 'rmsprop', 100, scaler, 3)\n",
    "predictions = cnn_model(x_train, y_train, x_test, y_test, 'rmsprop', 200, scaler, 3)\n",
    "predictions = cnn_model(x_train, y_train, x_test, y_test, 'rmsprop', 300, scaler, 3)\n",
    "\n",
    "predictions = cnn_model(x_train, y_train, x_test, y_test, 'rmsprop', 10, scaler, 5)\n",
    "predictions = cnn_model(x_train, y_train, x_test, y_test, 'rmsprop', 20, scaler, 5)\n",
    "predictions = cnn_model(x_train, y_train, x_test, y_test, 'rmsprop', 30, scaler, 5)\n",
    "predictions = cnn_model(x_train, y_train, x_test, y_test, 'rmsprop', 100, scaler, 5)\n",
    "predictions = cnn_model(x_train, y_train, x_test, y_test, 'rmsprop', 200, scaler, 5)\n",
    "predictions = cnn_model(x_train, y_train, x_test, y_test, 'rmsprop', 300, scaler, 5)\n",
    "\n",
    "predictions = cnn_model(x_train, y_train, x_test, y_test, 'rmsprop', 10, scaler,  7)\n",
    "predictions = cnn_model(x_train, y_train, x_test, y_test, 'rmsprop', 20, scaler,  7)\n",
    "predictions = cnn_model(x_train, y_train, x_test, y_test, 'rmsprop', 30, scaler,  7)\n",
    "predictions = cnn_model(x_train, y_train, x_test, y_test, 'rmsprop', 100, scaler, 7)\n",
    "predictions = cnn_model(x_train, y_train, x_test, y_test, 'rmsprop', 200, scaler, 7)\n",
    "predictions = cnn_model(x_train, y_train, x_test, y_test, 'rmsprop', 300, scaler, 7)"
   ]
  },
  {
   "cell_type": "code",
   "execution_count": 20,
   "id": "655f47a2",
   "metadata": {},
   "outputs": [
    {
     "name": "stderr",
     "output_type": "stream",
     "text": [
      "C:\\Users\\TEEM\\AppData\\Local\\Temp\\ipykernel_94812\\1868488282.py:7: SettingWithCopyWarning: \n",
      "A value is trying to be set on a copy of a slice from a DataFrame.\n",
      "Try using .loc[row_indexer,col_indexer] = value instead\n",
      "\n",
      "See the caveats in the documentation: https://pandas.pydata.org/pandas-docs/stable/user_guide/indexing.html#returning-a-view-versus-a-copy\n",
      "  valid['Predictions'] = predictions\n"
     ]
    },
    {
     "data": {
      "image/png": "[encoded data removed]",
      "text/plain": [
       "<Figure size 504x360 with 1 Axes>"
      ]
     },
     "metadata": {
      "needs_background": "light"
     },
     "output_type": "display_data"
    }
   ],
   "source": [
    "# draw prediction graph\n",
    "valid = plot_graph(data, predictions, training_data_len)"
   ]
  },
  {
   "cell_type": "code",
   "execution_count": 15,
   "id": "66e8d228",
   "metadata": {},
   "outputs": [
    {
     "name": "stdout",
     "output_type": "stream",
     "text": [
      "2862/2862 [==============================] - 148s 39ms/step - loss: 3.8894e-04\n",
      "23/23 [==============================] - 8s 21ms/step\n",
      "Optimizer = rmsprop, epochs = 1, rmse = 5.037604700375909, mape = 9.805129571353902\n",
      "Epoch 1/10\n",
      "2862/2862 [==============================] - 145s 38ms/step - loss: 4.1618e-04\n",
      "Epoch 2/10\n",
      "2862/2862 [==============================] - 110s 39ms/step - loss: 1.6714e-04\n",
      "Epoch 3/10\n",
      "2862/2862 [==============================] - 101s 35ms/step - loss: 1.1508e-04\n",
      "Epoch 4/10\n",
      "2862/2862 [==============================] - 99s 34ms/step - loss: 8.9481e-05\n",
      "Epoch 5/10\n",
      "2862/2862 [==============================] - 112s 39ms/step - loss: 7.5875e-05\n",
      "Epoch 6/10\n",
      "2862/2862 [==============================] - 111s 39ms/step - loss: 7.0103e-05\n",
      "Epoch 7/10\n",
      "2862/2862 [==============================] - 110s 38ms/step - loss: 6.3468e-05\n",
      "Epoch 8/10\n",
      "2862/2862 [==============================] - 110s 38ms/step - loss: 5.6528e-05\n",
      "Epoch 9/10\n",
      "2862/2862 [==============================] - 99s 35ms/step - loss: 5.3441e-05\n",
      "Epoch 10/10\n",
      "2862/2862 [==============================] - 97s 34ms/step - loss: 5.0999e-05\n",
      "23/23 [==============================] - 4s 19ms/step\n",
      "Optimizer = rmsprop, epochs = 10, rmse = 3.0172306896889047, mape = 5.1600390041671504\n"
     ]
    }
   ],
   "source": [
    "# show prediction data\n",
    "valid"
   ]
  },
  {
   "cell_type": "code",
   "execution_count": 23,
   "id": "45b58f8c",
   "metadata": {},
   "outputs": [
    {
     "name": "stdout",
     "output_type": "stream",
     "text": [
      "[*********************100%***********************]  1 of 1 completed\n"
     ]
    },
    {
     "data": {
      "image/png": "[encoded data removed]",
      "text/plain": [
       "<Figure size 432x288 with 1 Axes>"
      ]
     },
     "metadata": {
      "needs_background": "light"
     },
     "output_type": "display_data"
    }
   ],
   "source": [
    "# get stock data (2011)\n",
    "df_AOT = get_data(\"AOT.BK\", \"2011-01-01\")\n",
    "\n",
    "# draw data graph\n",
    "plot_data(df_AOT, \"AOT\")"
   ]
  },
  {
   "cell_type": "code",
   "execution_count": 24,
   "id": "0ff9e10a",
   "metadata": {},
   "outputs": [],
   "source": [
    "# set train and test data for 30 look back\n",
    "x_train, y_train, x_test, y_test, data, training_data_len, scaler = train_test_data(df_AOT, 30)"
   ]
  },
  {
   "cell_type": "code",
   "execution_count": null,
   "id": "22cdb58f",
   "metadata": {},
   "outputs": [],
   "source": [
    "# predict LSTM model with 30 look back\n",
    "predictions = model(x_train, y_train, x_test, y_test, 'adam', 1, scaler)\n",
    "predictions = model(x_train, y_train, x_test, y_test, 'adam', 10, scaler)\n",
    "predictions = model(x_train, y_train, x_test, y_test, 'adam', 20, scaler)\n",
    "predictions = model(x_train, y_train, x_test, y_test, 'adam', 30, scaler)\n",
    "\n",
    "predictions = model(x_train, y_train, x_test, y_test, 'sgd', 1, scaler)\n",
    "predictions = model(x_train, y_train, x_test, y_test, 'sgd', 10, scaler)\n",
    "predictions = model(x_train, y_train, x_test, y_test, 'sgd', 20, scaler)\n",
    "predictions = model(x_train, y_train, x_test, y_test, 'sgd', 30, scaler)\n",
    "\n",
    "predictions = model(x_train, y_train, x_test, y_test, 'rmsprop', 1, scaler)\n",
    "predictions = model(x_train, y_train, x_test, y_test, 'rmsprop', 10, scaler)\n",
    "predictions = model(x_train, y_train, x_test, y_test, 'rmsprop', 20, scaler)\n",
    "predictions = model(x_train, y_train, x_test, y_test, 'rmsprop', 30, scaler)"
   ]
  },
  {
   "cell_type": "code",
   "execution_count": null,
   "id": "88be3578",
   "metadata": {},
   "outputs": [],
   "source": [
    "# set train and test data for 60 look back\n",
    "x_train, y_train, x_test, y_test, data, training_data_len, scaler = train_test_data(df_AOT, 60)"
   ]
  },
  {
   "cell_type": "code",
   "execution_count": 16,
   "id": "bc948a3e",
   "metadata": {},
   "outputs": [
    {
     "name": "stderr",
     "output_type": "stream",
     "text": [
      "C:\\Users\\TEEM\\AppData\\Local\\Temp\\ipykernel_25864\\514960936.py:5: SettingWithCopyWarning: \n",
      "A value is trying to be set on a copy of a slice from a DataFrame.\n",
      "Try using .loc[row_indexer,col_indexer] = value instead\n",
      "\n",
      "See the caveats in the documentation: https://pandas.pydata.org/pandas-docs/stable/user_guide/indexing.html#returning-a-view-versus-a-copy\n",
      "  valid['Predictions'] = predictions\n"
     ]
    },
    {
     "data": {
      "image/png": "[encoded data removed]",
      "text/plain": [
       "<Figure size 504x360 with 1 Axes>"
      ]
     },
     "metadata": {
      "needs_background": "light"
     },
     "output_type": "display_data"
    },
    {
     "data": {
      "text/html": [
       "<div>\n",
       "<style scoped>\n",
       "    .dataframe tbody tr th:only-of-type {\n",
       "        vertical-align: middle;\n",
       "    }\n",
       "\n",
       "    .dataframe tbody tr th {\n",
       "        vertical-align: top;\n",
       "    }\n",
       "\n",
       "    .dataframe thead th {\n",
       "        text-align: right;\n",
       "    }\n",
       "</style>\n",
       "<table border=\"1\" class=\"dataframe\">\n",
       "  <thead>\n",
       "    <tr style=\"text-align: right;\">\n",
       "      <th></th>\n",
       "      <th>Close</th>\n",
       "      <th>Predictions</th>\n",
       "    </tr>\n",
       "    <tr>\n",
       "      <th>Date</th>\n",
       "      <th></th>\n",
       "      <th></th>\n",
       "    </tr>\n",
       "  </thead>\n",
       "  <tbody>\n",
       "    <tr>\n",
       "      <th>2017-07-17</th>\n",
       "      <td>61.00</td>\n",
       "      <td>56.512398</td>\n",
       "    </tr>\n",
       "    <tr>\n",
       "      <th>2017-07-18</th>\n",
       "      <td>61.00</td>\n",
       "      <td>56.466599</td>\n",
       "    </tr>\n",
       "    <tr>\n",
       "      <th>2017-07-19</th>\n",
       "      <td>61.00</td>\n",
       "      <td>56.496849</td>\n",
       "    </tr>\n",
       "    <tr>\n",
       "      <th>2017-07-20</th>\n",
       "      <td>61.00</td>\n",
       "      <td>56.478039</td>\n",
       "    </tr>\n",
       "    <tr>\n",
       "      <th>2017-07-21</th>\n",
       "      <td>60.75</td>\n",
       "      <td>56.500103</td>\n",
       "    </tr>\n",
       "    <tr>\n",
       "      <th>...</th>\n",
       "      <td>...</td>\n",
       "      <td>...</td>\n",
       "    </tr>\n",
       "    <tr>\n",
       "      <th>2019-02-22</th>\n",
       "      <td>78.75</td>\n",
       "      <td>61.555527</td>\n",
       "    </tr>\n",
       "    <tr>\n",
       "      <th>2019-02-25</th>\n",
       "      <td>80.25</td>\n",
       "      <td>61.704483</td>\n",
       "    </tr>\n",
       "    <tr>\n",
       "      <th>2019-02-26</th>\n",
       "      <td>80.00</td>\n",
       "      <td>61.705154</td>\n",
       "    </tr>\n",
       "    <tr>\n",
       "      <th>2019-02-27</th>\n",
       "      <td>78.50</td>\n",
       "      <td>61.843361</td>\n",
       "    </tr>\n",
       "    <tr>\n",
       "      <th>2019-02-28</th>\n",
       "      <td>77.75</td>\n",
       "      <td>61.843002</td>\n",
       "    </tr>\n",
       "  </tbody>\n",
       "</table>\n",
       "<p>399 rows × 2 columns</p>\n",
       "</div>"
      ],
      "text/plain": [
       "            Close  Predictions\n",
       "Date                          \n",
       "2017-07-17  61.00    56.512398\n",
       "2017-07-18  61.00    56.466599\n",
       "2017-07-19  61.00    56.496849\n",
       "2017-07-20  61.00    56.478039\n",
       "2017-07-21  60.75    56.500103\n",
       "...           ...          ...\n",
       "2019-02-22  78.75    61.555527\n",
       "2019-02-25  80.25    61.704483\n",
       "2019-02-26  80.00    61.705154\n",
       "2019-02-27  78.50    61.843361\n",
       "2019-02-28  77.75    61.843002\n",
       "\n",
       "[399 rows x 2 columns]"
      ]
     },
     "execution_count": 16,
     "metadata": {},
     "output_type": "execute_result"
    }
   ],
   "source": [
    "# predict LSTM model with 60 look back\n",
    "predictions = model(x_train, y_train, x_test, y_test, 'adam', 1, scaler)\n",
    "predictions = model(x_train, y_train, x_test, y_test, 'adam', 10, scaler)\n",
    "predictions = model(x_train, y_train, x_test, y_test, 'adam', 20, scaler)\n",
    "predictions = model(x_train, y_train, x_test, y_test, 'adam', 30, scaler)\n",
    "\n",
    "predictions = model(x_train, y_train, x_test, y_test, 'sgd', 1, scaler)\n",
    "predictions = model(x_train, y_train, x_test, y_test, 'sgd', 10, scaler)\n",
    "predictions = model(x_train, y_train, x_test, y_test, 'sgd', 20, scaler)\n",
    "predictions = model(x_train, y_train, x_test, y_test, 'sgd', 30, scaler)\n",
    "\n",
    "predictions = model(x_train, y_train, x_test, y_test, 'rmsprop', 1, scaler)\n",
    "predictions = model(x_train, y_train, x_test, y_test, 'rmsprop', 10, scaler)\n",
    "predictions = model(x_train, y_train, x_test, y_test, 'rmsprop', 20, scaler)\n",
    "predictions = model(x_train, y_train, x_test, y_test, 'rmsprop', 30, scaler)"
   ]
  },
  {
   "cell_type": "code",
   "execution_count": null,
   "id": "a7c793e1",
   "metadata": {},
   "outputs": [],
   "source": [
    "# predict thesis CNN model\n",
    "predictions = thesis_cnn_model(x_train, y_train, x_test, y_test, 'adam', 10, scaler, 3)\n",
    "predictions = thesis_cnn_model(x_train, y_train, x_test, y_test, 'adam', 20, scaler, 3)\n",
    "predictions = thesis_cnn_model(x_train, y_train, x_test, y_test, 'adam', 30, scaler, 3)\n",
    "predictions = thesis_cnn_model(x_train, y_train, x_test, y_test, 'adam', 100, scaler, 3)\n",
    "predictions = thesis_cnn_model(x_train, y_train, x_test, y_test, 'adam', 200, scaler, 3)\n",
    "predictions = thesis_cnn_model(x_train, y_train, x_test, y_test, 'adam', 300, scaler, 3)\n",
    "\n",
    "predictions = thesis_cnn_model(x_train, y_train, x_test, y_test, 'adam', 10, scaler, 5)\n",
    "predictions = thesis_cnn_model(x_train, y_train, x_test, y_test, 'adam', 20, scaler, 5)\n",
    "predictions = thesis_cnn_model(x_train, y_train, x_test, y_test, 'adam', 30, scaler, 5)\n",
    "predictions = thesis_cnn_model(x_train, y_train, x_test, y_test, 'adam', 100, scaler, 5)\n",
    "predictions = thesis_cnn_model(x_train, y_train, x_test, y_test, 'adam', 200, scaler, 5)\n",
    "predictions = thesis_cnn_model(x_train, y_train, x_test, y_test, 'adam', 300, scaler, 5)\n",
    "\n",
    "predictions = thesis_cnn_model(x_train, y_train, x_test, y_test, 'adam', 10, scaler,  7)\n",
    "predictions = thesis_cnn_model(x_train, y_train, x_test, y_test, 'adam', 20, scaler,  7)\n",
    "predictions = thesis_cnn_model(x_train, y_train, x_test, y_test, 'adam', 30, scaler,  7)\n",
    "predictions = thesis_cnn_model(x_train, y_train, x_test, y_test, 'adam', 100, scaler, 7)\n",
    "predictions = thesis_cnn_model(x_train, y_train, x_test, y_test, 'adam', 200, scaler, 7)\n",
    "predictions = thesis_cnn_model(x_train, y_train, x_test, y_test, 'adam', 300, scaler, 7)\n",
    "\n",
    "predictions = thesis_cnn_model(x_train, y_train, x_test, y_test, 'sgd', 10, scaler, 3)\n",
    "predictions = thesis_cnn_model(x_train, y_train, x_test, y_test, 'sgd', 20, scaler, 3)\n",
    "predictions = thesis_cnn_model(x_train, y_train, x_test, y_test, 'sgd', 30, scaler, 3)\n",
    "predictions = thesis_cnn_model(x_train, y_train, x_test, y_test, 'sgd', 100, scaler, 3)\n",
    "predictions = thesis_cnn_model(x_train, y_train, x_test, y_test, 'sgd', 200, scaler, 3)\n",
    "predictions = thesis_cnn_model(x_train, y_train, x_test, y_test, 'sgd', 300, scaler, 3)\n",
    "\n",
    "predictions = thesis_cnn_model(x_train, y_train, x_test, y_test, 'sgd', 10, scaler, 5)\n",
    "predictions = thesis_cnn_model(x_train, y_train, x_test, y_test, 'sgd', 20, scaler, 5)\n",
    "predictions = thesis_cnn_model(x_train, y_train, x_test, y_test, 'sgd', 30, scaler, 5)\n",
    "predictions = thesis_cnn_model(x_train, y_train, x_test, y_test, 'sgd', 100, scaler, 5)\n",
    "predictions = thesis_cnn_model(x_train, y_train, x_test, y_test, 'sgd', 200, scaler, 5)\n",
    "predictions = thesis_cnn_model(x_train, y_train, x_test, y_test, 'sgd', 300, scaler, 5)\n",
    "\n",
    "predictions = thesis_cnn_model(x_train, y_train, x_test, y_test, 'sgd', 10, scaler,  7)\n",
    "predictions = thesis_cnn_model(x_train, y_train, x_test, y_test, 'sgd', 20, scaler,  7)\n",
    "predictions = thesis_cnn_model(x_train, y_train, x_test, y_test, 'sgd', 30, scaler,  7)\n",
    "predictions = thesis_cnn_model(x_train, y_train, x_test, y_test, 'sgd', 100, scaler, 7)\n",
    "predictions = thesis_cnn_model(x_train, y_train, x_test, y_test, 'sgd', 200, scaler, 7)\n",
    "predictions = thesis_cnn_model(x_train, y_train, x_test, y_test, 'sgd', 300, scaler, 7)\n",
    "\n",
    "predictions = thesis_cnn_model(x_train, y_train, x_test, y_test, 'rmsprop', 10, scaler, 3)\n",
    "predictions = thesis_cnn_model(x_train, y_train, x_test, y_test, 'rmsprop', 20, scaler, 3)\n",
    "predictions = thesis_cnn_model(x_train, y_train, x_test, y_test, 'rmsprop', 30, scaler, 3)\n",
    "predictions = thesis_cnn_model(x_train, y_train, x_test, y_test, 'rmsprop', 100, scaler, 3)\n",
    "predictions = thesis_cnn_model(x_train, y_train, x_test, y_test, 'rmsprop', 200, scaler, 3)\n",
    "predictions = thesis_cnn_model(x_train, y_train, x_test, y_test, 'rmsprop', 300, scaler, 3)\n",
    "\n",
    "predictions = thesis_cnn_model(x_train, y_train, x_test, y_test, 'rmsprop', 10, scaler, 5)\n",
    "predictions = thesis_cnn_model(x_train, y_train, x_test, y_test, 'rmsprop', 20, scaler, 5)\n",
    "predictions = thesis_cnn_model(x_train, y_train, x_test, y_test, 'rmsprop', 30, scaler, 5)\n",
    "predictions = thesis_cnn_model(x_train, y_train, x_test, y_test, 'rmsprop', 100, scaler, 5)\n",
    "predictions = thesis_cnn_model(x_train, y_train, x_test, y_test, 'rmsprop', 200, scaler, 5)\n",
    "predictions = thesis_cnn_model(x_train, y_train, x_test, y_test, 'rmsprop', 300, scaler, 5)\n",
    "\n",
    "predictions = thesis_cnn_model(x_train, y_train, x_test, y_test, 'rmsprop', 10, scaler,  7)\n",
    "predictions = thesis_cnn_model(x_train, y_train, x_test, y_test, 'rmsprop', 20, scaler,  7)\n",
    "predictions = thesis_cnn_model(x_train, y_train, x_test, y_test, 'rmsprop', 30, scaler,  7)\n",
    "predictions = thesis_cnn_model(x_train, y_train, x_test, y_test, 'rmsprop', 100, scaler, 7)\n",
    "predictions = thesis_cnn_model(x_train, y_train, x_test, y_test, 'rmsprop', 200, scaler, 7)\n",
    "predictions = thesis_cnn_model(x_train, y_train, x_test, y_test, 'rmsprop', 300, scaler, 7)"
   ]
  },
  {
   "cell_type": "code",
   "execution_count": null,
   "id": "4e1bcee1",
   "metadata": {},
   "outputs": [],
   "source": [
    "# predict new CNN model\n",
    "predictions = cnn_model(x_train, y_train, x_test, y_test, 'adam', 10, scaler, 3)\n",
    "predictions = cnn_model(x_train, y_train, x_test, y_test, 'adam', 20, scaler, 3)\n",
    "predictions = cnn_model(x_train, y_train, x_test, y_test, 'adam', 30, scaler, 3)\n",
    "predictions = cnn_model(x_train, y_train, x_test, y_test, 'adam', 100, scaler, 3)\n",
    "predictions = cnn_model(x_train, y_train, x_test, y_test, 'adam', 200, scaler, 3)\n",
    "predictions = cnn_model(x_train, y_train, x_test, y_test, 'adam', 300, scaler, 3)\n",
    "\n",
    "predictions = cnn_model(x_train, y_train, x_test, y_test, 'adam', 10, scaler, 5)\n",
    "predictions = cnn_model(x_train, y_train, x_test, y_test, 'adam', 20, scaler, 5)\n",
    "predictions = cnn_model(x_train, y_train, x_test, y_test, 'adam', 30, scaler, 5)\n",
    "predictions = cnn_model(x_train, y_train, x_test, y_test, 'adam', 100, scaler, 5)\n",
    "predictions = cnn_model(x_train, y_train, x_test, y_test, 'adam', 200, scaler, 5)\n",
    "predictions = cnn_model(x_train, y_train, x_test, y_test, 'adam', 300, scaler, 5)\n",
    "\n",
    "predictions = cnn_model(x_train, y_train, x_test, y_test, 'adam', 10, scaler,  7)\n",
    "predictions = cnn_model(x_train, y_train, x_test, y_test, 'adam', 20, scaler,  7)\n",
    "predictions = cnn_model(x_train, y_train, x_test, y_test, 'adam', 30, scaler,  7)\n",
    "predictions = cnn_model(x_train, y_train, x_test, y_test, 'adam', 100, scaler, 7)\n",
    "predictions = cnn_model(x_train, y_train, x_test, y_test, 'adam', 200, scaler, 7)\n",
    "predictions = cnn_model(x_train, y_train, x_test, y_test, 'adam', 300, scaler, 7)\n",
    "\n",
    "predictions = cnn_model(x_train, y_train, x_test, y_test, 'sgd', 10, scaler, 3)\n",
    "predictions = cnn_model(x_train, y_train, x_test, y_test, 'sgd', 20, scaler, 3)\n",
    "predictions = cnn_model(x_train, y_train, x_test, y_test, 'sgd', 30, scaler, 3)\n",
    "predictions = cnn_model(x_train, y_train, x_test, y_test, 'sgd', 100, scaler, 3)\n",
    "predictions = cnn_model(x_train, y_train, x_test, y_test, 'sgd', 200, scaler, 3)\n",
    "predictions = cnn_model(x_train, y_train, x_test, y_test, 'sgd', 300, scaler, 3)\n",
    "\n",
    "predictions = cnn_model(x_train, y_train, x_test, y_test, 'sgd', 10, scaler, 5)\n",
    "predictions = cnn_model(x_train, y_train, x_test, y_test, 'sgd', 20, scaler, 5)\n",
    "predictions = cnn_model(x_train, y_train, x_test, y_test, 'sgd', 30, scaler, 5)\n",
    "predictions = cnn_model(x_train, y_train, x_test, y_test, 'sgd', 100, scaler, 5)\n",
    "predictions = cnn_model(x_train, y_train, x_test, y_test, 'sgd', 200, scaler, 5)\n",
    "predictions = cnn_model(x_train, y_train, x_test, y_test, 'sgd', 300, scaler, 5)\n",
    "\n",
    "predictions = cnn_model(x_train, y_train, x_test, y_test, 'sgd', 10, scaler,  7)\n",
    "predictions = cnn_model(x_train, y_train, x_test, y_test, 'sgd', 20, scaler,  7)\n",
    "predictions = cnn_model(x_train, y_train, x_test, y_test, 'sgd', 30, scaler,  7)\n",
    "predictions = cnn_model(x_train, y_train, x_test, y_test, 'sgd', 100, scaler, 7)\n",
    "predictions = cnn_model(x_train, y_train, x_test, y_test, 'sgd', 200, scaler, 7)\n",
    "predictions = cnn_model(x_train, y_train, x_test, y_test, 'sgd', 300, scaler, 7)\n",
    "\n",
    "predictions = cnn_model(x_train, y_train, x_test, y_test, 'rmsprop', 10, scaler, 3)\n",
    "predictions = cnn_model(x_train, y_train, x_test, y_test, 'rmsprop', 20, scaler, 3)\n",
    "predictions = cnn_model(x_train, y_train, x_test, y_test, 'rmsprop', 30, scaler, 3)\n",
    "predictions = cnn_model(x_train, y_train, x_test, y_test, 'rmsprop', 100, scaler, 3)\n",
    "predictions = cnn_model(x_train, y_train, x_test, y_test, 'rmsprop', 200, scaler, 3)\n",
    "predictions = cnn_model(x_train, y_train, x_test, y_test, 'rmsprop', 300, scaler, 3)\n",
    "\n",
    "predictions = cnn_model(x_train, y_train, x_test, y_test, 'rmsprop', 10, scaler, 5)\n",
    "predictions = cnn_model(x_train, y_train, x_test, y_test, 'rmsprop', 20, scaler, 5)\n",
    "predictions = cnn_model(x_train, y_train, x_test, y_test, 'rmsprop', 30, scaler, 5)\n",
    "predictions = cnn_model(x_train, y_train, x_test, y_test, 'rmsprop', 100, scaler, 5)\n",
    "predictions = cnn_model(x_train, y_train, x_test, y_test, 'rmsprop', 200, scaler, 5)\n",
    "predictions = cnn_model(x_train, y_train, x_test, y_test, 'rmsprop', 300, scaler, 5)\n",
    "\n",
    "predictions = cnn_model(x_train, y_train, x_test, y_test, 'rmsprop', 10, scaler,  7)\n",
    "predictions = cnn_model(x_train, y_train, x_test, y_test, 'rmsprop', 20, scaler,  7)\n",
    "predictions = cnn_model(x_train, y_train, x_test, y_test, 'rmsprop', 30, scaler,  7)\n",
    "predictions = cnn_model(x_train, y_train, x_test, y_test, 'rmsprop', 100, scaler, 7)\n",
    "predictions = cnn_model(x_train, y_train, x_test, y_test, 'rmsprop', 200, scaler, 7)\n",
    "predictions = cnn_model(x_train, y_train, x_test, y_test, 'rmsprop', 300, scaler, 7)"
   ]
  },
  {
   "cell_type": "code",
   "execution_count": null,
   "id": "616b335c",
   "metadata": {},
   "outputs": [],
   "source": [
    "# draw prediction graph\n",
    "valid = plot_graph(data, predictions, training_data_len)"
   ]
  },
  {
   "cell_type": "code",
   "execution_count": null,
   "id": "a95f2f08",
   "metadata": {},
   "outputs": [],
   "source": [
    "# show prediction data\n",
    "valid"
   ]
  },
  {
   "cell_type": "markdown",
   "id": "48a238e7",
   "metadata": {},
   "source": [
    "# LH (Land & Houses Public Company Limited)"
   ]
  },
  {
   "cell_type": "code",
   "execution_count": 31,
   "id": "7e09f4a3",
   "metadata": {},
   "outputs": [
    {
     "name": "stdout",
     "output_type": "stream",
     "text": [
      "[*********************100%***********************]  1 of 1 completed\n"
     ]
    },
    {
     "data": {
      "image/png": "[encoded data removed]",
      "text/plain": [
       "<Figure size 432x288 with 1 Axes>"
      ]
     },
     "metadata": {
      "needs_background": "light"
     },
     "output_type": "display_data"
    }
   ],
   "source": [
    "# get stock data (2001)\n",
    "df_LH = get_data(\"LH.BK\", \"2001-01-01\")\n",
    "\n",
    "# draw data graph\n",
    "plot_data(df_LH, \"LH\")"
   ]
  },
  {
   "cell_type": "code",
   "execution_count": null,
   "id": "d390135a",
   "metadata": {},
   "outputs": [],
   "source": [
    "# set train and test data for 30 look back\n",
    "x_train, y_train, x_test, y_test, data, training_data_len, scaler = train_test_data(df_LH, 30)"
   ]
  },
  {
   "cell_type": "code",
   "execution_count": null,
   "id": "b30a388a",
   "metadata": {},
   "outputs": [],
   "source": [
    "# predict LSTM model with 30 look back\n",
    "predictions = model(x_train, y_train, x_test, y_test, 'adam', 1, scaler)\n",
    "predictions = model(x_train, y_train, x_test, y_test, 'adam', 10, scaler)\n",
    "predictions = model(x_train, y_train, x_test, y_test, 'adam', 20, scaler)\n",
    "predictions = model(x_train, y_train, x_test, y_test, 'adam', 30, scaler)\n",
    "\n",
    "predictions = model(x_train, y_train, x_test, y_test, 'sgd', 1, scaler)\n",
    "predictions = model(x_train, y_train, x_test, y_test, 'sgd', 10, scaler)\n",
    "predictions = model(x_train, y_train, x_test, y_test, 'sgd', 20, scaler)\n",
    "predictions = model(x_train, y_train, x_test, y_test, 'sgd', 30, scaler)\n",
    "\n",
    "predictions = model(x_train, y_train, x_test, y_test, 'rmsprop', 1, scaler)\n",
    "predictions = model(x_train, y_train, x_test, y_test, 'rmsprop', 10, scaler)\n",
    "predictions = model(x_train, y_train, x_test, y_test, 'rmsprop', 20, scaler)\n",
    "predictions = model(x_train, y_train, x_test, y_test, 'rmsprop', 30, scaler)"
   ]
  },
  {
   "cell_type": "code",
   "execution_count": null,
   "id": "4b960a54",
   "metadata": {
    "scrolled": false
   },
   "outputs": [],
   "source": [
    "# set train and test data for 60 look back\n",
    "x_train, y_train, x_test, y_test, data, training_data_len, scaler = train_test_data(df_LH, 60)"
   ]
  },
  {
   "cell_type": "code",
   "execution_count": null,
   "id": "8c2da6fa",
   "metadata": {},
   "outputs": [],
   "source": [
    "# predict LSTM model with 60 look back\n",
    "predictions = model(x_train, y_train, x_test, y_test, 'adam', 1, scaler)\n",
    "predictions = model(x_train, y_train, x_test, y_test, 'adam', 10, scaler)\n",
    "predictions = model(x_train, y_train, x_test, y_test, 'adam', 20, scaler)\n",
    "predictions = model(x_train, y_train, x_test, y_test, 'adam', 30, scaler)\n",
    "\n",
    "predictions = model(x_train, y_train, x_test, y_test, 'sgd', 1, scaler)\n",
    "predictions = model(x_train, y_train, x_test, y_test, 'sgd', 10, scaler)\n",
    "predictions = model(x_train, y_train, x_test, y_test, 'sgd', 20, scaler)\n",
    "predictions = model(x_train, y_train, x_test, y_test, 'sgd', 30, scaler)\n",
    "\n",
    "predictions = model(x_train, y_train, x_test, y_test, 'rmsprop', 1, scaler)\n",
    "predictions = model(x_train, y_train, x_test, y_test, 'rmsprop', 10, scaler)\n",
    "predictions = model(x_train, y_train, x_test, y_test, 'rmsprop', 20, scaler)\n",
    "predictions = model(x_train, y_train, x_test, y_test, 'rmsprop', 30, scaler)"
   ]
  },
  {
   "cell_type": "code",
   "execution_count": 36,
   "id": "0edaa149",
   "metadata": {},
   "outputs": [
    {
     "name": "stdout",
     "output_type": "stream",
     "text": [
      "1504/1504 [==============================] - 45s 27ms/step - loss: 0.0034\n",
      "13/13 [==============================] - 3s 21ms/step\n",
      "Optimizer = adam, epochs = 1, rmse = 0.06390775778354743, mape = 1.517013503356091\n"
     ]
    }
   ],
   "source": [
    "# predict thesis CNN model\n",
    "predictions = thesis_cnn_model(x_train, y_train, x_test, y_test, 'adam', 10, scaler, 3)\n",
    "predictions = thesis_cnn_model(x_train, y_train, x_test, y_test, 'adam', 20, scaler, 3)\n",
    "predictions = thesis_cnn_model(x_train, y_train, x_test, y_test, 'adam', 30, scaler, 3)\n",
    "predictions = thesis_cnn_model(x_train, y_train, x_test, y_test, 'adam', 100, scaler, 3)\n",
    "predictions = thesis_cnn_model(x_train, y_train, x_test, y_test, 'adam', 200, scaler, 3)\n",
    "predictions = thesis_cnn_model(x_train, y_train, x_test, y_test, 'adam', 300, scaler, 3)\n",
    "\n",
    "predictions = thesis_cnn_model(x_train, y_train, x_test, y_test, 'adam', 10, scaler, 5)\n",
    "predictions = thesis_cnn_model(x_train, y_train, x_test, y_test, 'adam', 20, scaler, 5)\n",
    "predictions = thesis_cnn_model(x_train, y_train, x_test, y_test, 'adam', 30, scaler, 5)\n",
    "predictions = thesis_cnn_model(x_train, y_train, x_test, y_test, 'adam', 100, scaler, 5)\n",
    "predictions = thesis_cnn_model(x_train, y_train, x_test, y_test, 'adam', 200, scaler, 5)\n",
    "predictions = thesis_cnn_model(x_train, y_train, x_test, y_test, 'adam', 300, scaler, 5)\n",
    "\n",
    "predictions = thesis_cnn_model(x_train, y_train, x_test, y_test, 'adam', 10, scaler,  7)\n",
    "predictions = thesis_cnn_model(x_train, y_train, x_test, y_test, 'adam', 20, scaler,  7)\n",
    "predictions = thesis_cnn_model(x_train, y_train, x_test, y_test, 'adam', 30, scaler,  7)\n",
    "predictions = thesis_cnn_model(x_train, y_train, x_test, y_test, 'adam', 100, scaler, 7)\n",
    "predictions = thesis_cnn_model(x_train, y_train, x_test, y_test, 'adam', 200, scaler, 7)\n",
    "predictions = thesis_cnn_model(x_train, y_train, x_test, y_test, 'adam', 300, scaler, 7)\n",
    "\n",
    "predictions = thesis_cnn_model(x_train, y_train, x_test, y_test, 'sgd', 10, scaler, 3)\n",
    "predictions = thesis_cnn_model(x_train, y_train, x_test, y_test, 'sgd', 20, scaler, 3)\n",
    "predictions = thesis_cnn_model(x_train, y_train, x_test, y_test, 'sgd', 30, scaler, 3)\n",
    "predictions = thesis_cnn_model(x_train, y_train, x_test, y_test, 'sgd', 100, scaler, 3)\n",
    "predictions = thesis_cnn_model(x_train, y_train, x_test, y_test, 'sgd', 200, scaler, 3)\n",
    "predictions = thesis_cnn_model(x_train, y_train, x_test, y_test, 'sgd', 300, scaler, 3)\n",
    "\n",
    "predictions = thesis_cnn_model(x_train, y_train, x_test, y_test, 'sgd', 10, scaler, 5)\n",
    "predictions = thesis_cnn_model(x_train, y_train, x_test, y_test, 'sgd', 20, scaler, 5)\n",
    "predictions = thesis_cnn_model(x_train, y_train, x_test, y_test, 'sgd', 30, scaler, 5)\n",
    "predictions = thesis_cnn_model(x_train, y_train, x_test, y_test, 'sgd', 100, scaler, 5)\n",
    "predictions = thesis_cnn_model(x_train, y_train, x_test, y_test, 'sgd', 200, scaler, 5)\n",
    "predictions = thesis_cnn_model(x_train, y_train, x_test, y_test, 'sgd', 300, scaler, 5)\n",
    "\n",
    "predictions = thesis_cnn_model(x_train, y_train, x_test, y_test, 'sgd', 10, scaler,  7)\n",
    "predictions = thesis_cnn_model(x_train, y_train, x_test, y_test, 'sgd', 20, scaler,  7)\n",
    "predictions = thesis_cnn_model(x_train, y_train, x_test, y_test, 'sgd', 30, scaler,  7)\n",
    "predictions = thesis_cnn_model(x_train, y_train, x_test, y_test, 'sgd', 100, scaler, 7)\n",
    "predictions = thesis_cnn_model(x_train, y_train, x_test, y_test, 'sgd', 200, scaler, 7)\n",
    "predictions = thesis_cnn_model(x_train, y_train, x_test, y_test, 'sgd', 300, scaler, 7)\n",
    "\n",
    "predictions = thesis_cnn_model(x_train, y_train, x_test, y_test, 'rmsprop', 10, scaler, 3)\n",
    "predictions = thesis_cnn_model(x_train, y_train, x_test, y_test, 'rmsprop', 20, scaler, 3)\n",
    "predictions = thesis_cnn_model(x_train, y_train, x_test, y_test, 'rmsprop', 30, scaler, 3)\n",
    "predictions = thesis_cnn_model(x_train, y_train, x_test, y_test, 'rmsprop', 100, scaler, 3)\n",
    "predictions = thesis_cnn_model(x_train, y_train, x_test, y_test, 'rmsprop', 200, scaler, 3)\n",
    "predictions = thesis_cnn_model(x_train, y_train, x_test, y_test, 'rmsprop', 300, scaler, 3)\n",
    "\n",
    "predictions = thesis_cnn_model(x_train, y_train, x_test, y_test, 'rmsprop', 10, scaler, 5)\n",
    "predictions = thesis_cnn_model(x_train, y_train, x_test, y_test, 'rmsprop', 20, scaler, 5)\n",
    "predictions = thesis_cnn_model(x_train, y_train, x_test, y_test, 'rmsprop', 30, scaler, 5)\n",
    "predictions = thesis_cnn_model(x_train, y_train, x_test, y_test, 'rmsprop', 100, scaler, 5)\n",
    "predictions = thesis_cnn_model(x_train, y_train, x_test, y_test, 'rmsprop', 200, scaler, 5)\n",
    "predictions = thesis_cnn_model(x_train, y_train, x_test, y_test, 'rmsprop', 300, scaler, 5)\n",
    "\n",
    "predictions = thesis_cnn_model(x_train, y_train, x_test, y_test, 'rmsprop', 10, scaler,  7)\n",
    "predictions = thesis_cnn_model(x_train, y_train, x_test, y_test, 'rmsprop', 20, scaler,  7)\n",
    "predictions = thesis_cnn_model(x_train, y_train, x_test, y_test, 'rmsprop', 30, scaler,  7)\n",
    "predictions = thesis_cnn_model(x_train, y_train, x_test, y_test, 'rmsprop', 100, scaler, 7)\n",
    "predictions = thesis_cnn_model(x_train, y_train, x_test, y_test, 'rmsprop', 200, scaler, 7)\n",
    "predictions = thesis_cnn_model(x_train, y_train, x_test, y_test, 'rmsprop', 300, scaler, 7)"
   ]
  },
  {
   "cell_type": "code",
   "execution_count": 37,
   "id": "bd4498e9",
   "metadata": {},
   "outputs": [
    {
     "name": "stderr",
     "output_type": "stream",
     "text": [
      "C:\\Users\\TEEM\\AppData\\Local\\Temp\\ipykernel_72204\\2295167687.py:7: SettingWithCopyWarning: \n",
      "A value is trying to be set on a copy of a slice from a DataFrame.\n",
      "Try using .loc[row_indexer,col_indexer] = value instead\n",
      "\n",
      "See the caveats in the documentation: https://pandas.pydata.org/pandas-docs/stable/user_guide/indexing.html#returning-a-view-versus-a-copy\n",
      "  valid['Predictions'] = predictions\n"
     ]
    },
    {
     "data": {
      "image/png": "[encoded data removed]",
      "text/plain": [
       "<Figure size 504x360 with 1 Axes>"
      ]
     },
     "metadata": {
      "needs_background": "light"
     },
     "output_type": "display_data"
    }
   ],
   "source": [
    "# predict new CNN model\n",
    "predictions = cnn_model(x_train, y_train, x_test, y_test, 'adam', 10, scaler, 3)\n",
    "predictions = cnn_model(x_train, y_train, x_test, y_test, 'adam', 20, scaler, 3)\n",
    "predictions = cnn_model(x_train, y_train, x_test, y_test, 'adam', 30, scaler, 3)\n",
    "predictions = cnn_model(x_train, y_train, x_test, y_test, 'adam', 100, scaler, 3)\n",
    "predictions = cnn_model(x_train, y_train, x_test, y_test, 'adam', 200, scaler, 3)\n",
    "predictions = cnn_model(x_train, y_train, x_test, y_test, 'adam', 300, scaler, 3)\n",
    "\n",
    "predictions = cnn_model(x_train, y_train, x_test, y_test, 'adam', 10, scaler, 5)\n",
    "predictions = cnn_model(x_train, y_train, x_test, y_test, 'adam', 20, scaler, 5)\n",
    "predictions = cnn_model(x_train, y_train, x_test, y_test, 'adam', 30, scaler, 5)\n",
    "predictions = cnn_model(x_train, y_train, x_test, y_test, 'adam', 100, scaler, 5)\n",
    "predictions = cnn_model(x_train, y_train, x_test, y_test, 'adam', 200, scaler, 5)\n",
    "predictions = cnn_model(x_train, y_train, x_test, y_test, 'adam', 300, scaler, 5)\n",
    "\n",
    "predictions = cnn_model(x_train, y_train, x_test, y_test, 'adam', 10, scaler,  7)\n",
    "predictions = cnn_model(x_train, y_train, x_test, y_test, 'adam', 20, scaler,  7)\n",
    "predictions = cnn_model(x_train, y_train, x_test, y_test, 'adam', 30, scaler,  7)\n",
    "predictions = cnn_model(x_train, y_train, x_test, y_test, 'adam', 100, scaler, 7)\n",
    "predictions = cnn_model(x_train, y_train, x_test, y_test, 'adam', 200, scaler, 7)\n",
    "predictions = cnn_model(x_train, y_train, x_test, y_test, 'adam', 300, scaler, 7)\n",
    "\n",
    "predictions = cnn_model(x_train, y_train, x_test, y_test, 'sgd', 10, scaler, 3)\n",
    "predictions = cnn_model(x_train, y_train, x_test, y_test, 'sgd', 20, scaler, 3)\n",
    "predictions = cnn_model(x_train, y_train, x_test, y_test, 'sgd', 30, scaler, 3)\n",
    "predictions = cnn_model(x_train, y_train, x_test, y_test, 'sgd', 100, scaler, 3)\n",
    "predictions = cnn_model(x_train, y_train, x_test, y_test, 'sgd', 200, scaler, 3)\n",
    "predictions = cnn_model(x_train, y_train, x_test, y_test, 'sgd', 300, scaler, 3)\n",
    "\n",
    "predictions = cnn_model(x_train, y_train, x_test, y_test, 'sgd', 10, scaler, 5)\n",
    "predictions = cnn_model(x_train, y_train, x_test, y_test, 'sgd', 20, scaler, 5)\n",
    "predictions = cnn_model(x_train, y_train, x_test, y_test, 'sgd', 30, scaler, 5)\n",
    "predictions = cnn_model(x_train, y_train, x_test, y_test, 'sgd', 100, scaler, 5)\n",
    "predictions = cnn_model(x_train, y_train, x_test, y_test, 'sgd', 200, scaler, 5)\n",
    "predictions = cnn_model(x_train, y_train, x_test, y_test, 'sgd', 300, scaler, 5)\n",
    "\n",
    "predictions = cnn_model(x_train, y_train, x_test, y_test, 'sgd', 10, scaler,  7)\n",
    "predictions = cnn_model(x_train, y_train, x_test, y_test, 'sgd', 20, scaler,  7)\n",
    "predictions = cnn_model(x_train, y_train, x_test, y_test, 'sgd', 30, scaler,  7)\n",
    "predictions = cnn_model(x_train, y_train, x_test, y_test, 'sgd', 100, scaler, 7)\n",
    "predictions = cnn_model(x_train, y_train, x_test, y_test, 'sgd', 200, scaler, 7)\n",
    "predictions = cnn_model(x_train, y_train, x_test, y_test, 'sgd', 300, scaler, 7)\n",
    "\n",
    "predictions = cnn_model(x_train, y_train, x_test, y_test, 'rmsprop', 10, scaler, 3)\n",
    "predictions = cnn_model(x_train, y_train, x_test, y_test, 'rmsprop', 20, scaler, 3)\n",
    "predictions = cnn_model(x_train, y_train, x_test, y_test, 'rmsprop', 30, scaler, 3)\n",
    "predictions = cnn_model(x_train, y_train, x_test, y_test, 'rmsprop', 100, scaler, 3)\n",
    "predictions = cnn_model(x_train, y_train, x_test, y_test, 'rmsprop', 200, scaler, 3)\n",
    "predictions = cnn_model(x_train, y_train, x_test, y_test, 'rmsprop', 300, scaler, 3)\n",
    "\n",
    "predictions = cnn_model(x_train, y_train, x_test, y_test, 'rmsprop', 10, scaler, 5)\n",
    "predictions = cnn_model(x_train, y_train, x_test, y_test, 'rmsprop', 20, scaler, 5)\n",
    "predictions = cnn_model(x_train, y_train, x_test, y_test, 'rmsprop', 30, scaler, 5)\n",
    "predictions = cnn_model(x_train, y_train, x_test, y_test, 'rmsprop', 100, scaler, 5)\n",
    "predictions = cnn_model(x_train, y_train, x_test, y_test, 'rmsprop', 200, scaler, 5)\n",
    "predictions = cnn_model(x_train, y_train, x_test, y_test, 'rmsprop', 300, scaler, 5)\n",
    "\n",
    "predictions = cnn_model(x_train, y_train, x_test, y_test, 'rmsprop', 10, scaler,  7)\n",
    "predictions = cnn_model(x_train, y_train, x_test, y_test, 'rmsprop', 20, scaler,  7)\n",
    "predictions = cnn_model(x_train, y_train, x_test, y_test, 'rmsprop', 30, scaler,  7)\n",
    "predictions = cnn_model(x_train, y_train, x_test, y_test, 'rmsprop', 100, scaler, 7)\n",
    "predictions = cnn_model(x_train, y_train, x_test, y_test, 'rmsprop', 200, scaler, 7)\n",
    "predictions = cnn_model(x_train, y_train, x_test, y_test, 'rmsprop', 300, scaler, 7)"
   ]
  },
  {
   "cell_type": "code",
   "execution_count": 27,
   "id": "93774916",
   "metadata": {},
   "outputs": [
    {
     "name": "stdout",
     "output_type": "stream",
     "text": [
      "3528/3528 [==============================] - 245s 54ms/step - loss: 0.0039\n",
      "29/29 [==============================] - 16s 29ms/step\n",
      "Optimizer = sgd, epochs = 1, rmse = 0.230157461453441, mape = 3.072217626301162\n",
      "Epoch 1/10\n",
      "3528/3528 [==============================] - 227s 49ms/step - loss: 0.0031\n",
      "Epoch 2/10\n",
      "3528/3528 [==============================] - 174s 49ms/step - loss: 0.0014\n",
      "Epoch 3/10\n",
      "3528/3528 [==============================] - 189s 54ms/step - loss: 0.0013\n",
      "Epoch 4/10\n",
      "3528/3528 [==============================] - 162s 46ms/step - loss: 0.0012\n",
      "Epoch 5/10\n",
      "3528/3528 [==============================] - 187s 53ms/step - loss: 0.0011\n",
      "Epoch 6/10\n",
      "3528/3528 [==============================] - 182s 52ms/step - loss: 0.0011\n",
      "Epoch 7/10\n",
      "3528/3528 [==============================] - 145s 41ms/step - loss: 0.0010\n",
      "Epoch 8/10\n",
      "3528/3528 [==============================] - 142s 40ms/step - loss: 9.6112e-04\n",
      "Epoch 9/10\n",
      "3528/3528 [==============================] - 150s 43ms/step - loss: 9.3280e-04\n",
      "Epoch 10/10\n",
      "3528/3528 [==============================] - 153s 43ms/step - loss: 9.0275e-04\n",
      "29/29 [==============================] - 6s 27ms/step\n",
      "Optimizer = sgd, epochs = 10, rmse = 0.040687813540897774, mape = 1.9175126048746254\n"
     ]
    }
   ],
   "source": [
    "# draw prediction graph\n",
    "valid = plot_graph(data, predictions, training_data_len)"
   ]
  },
  {
   "cell_type": "code",
   "execution_count": 28,
   "id": "a17febff",
   "metadata": {},
   "outputs": [
    {
     "name": "stderr",
     "output_type": "stream",
     "text": [
      "C:\\Users\\TEEM\\AppData\\Local\\Temp\\ipykernel_72204\\2295167687.py:7: SettingWithCopyWarning: \n",
      "A value is trying to be set on a copy of a slice from a DataFrame.\n",
      "Try using .loc[row_indexer,col_indexer] = value instead\n",
      "\n",
      "See the caveats in the documentation: https://pandas.pydata.org/pandas-docs/stable/user_guide/indexing.html#returning-a-view-versus-a-copy\n",
      "  valid['Predictions'] = predictions\n"
     ]
    },
    {
     "data": {
      "image/png": "[encoded data removed]",
      "text/plain": [
       "<Figure size 504x360 with 1 Axes>"
      ]
     },
     "metadata": {
      "needs_background": "light"
     },
     "output_type": "display_data"
    }
   ],
   "source": [
    "# show prediction data\n",
    "valid"
   ]
  },
  {
   "cell_type": "code",
   "execution_count": 29,
   "id": "a6970cd2",
   "metadata": {},
   "outputs": [
    {
     "name": "stdout",
     "output_type": "stream",
     "text": [
      "3528/3528 [==============================] - 182s 43ms/step - loss: 0.0016\n",
      "29/29 [==============================] - 9s 26ms/step\n",
      "Optimizer = rmsprop, epochs = 1, rmse = 0.21815667051402488, mape = 2.3381156757873174\n",
      "Epoch 1/10\n",
      "3528/3528 [==============================] - 176s 41ms/step - loss: 0.0017\n",
      "Epoch 2/10\n",
      "3528/3528 [==============================] - 150s 42ms/step - loss: 6.3567e-04\n",
      "Epoch 3/10\n",
      "3528/3528 [==============================] - 151s 43ms/step - loss: 5.6887e-04\n",
      "Epoch 4/10\n",
      "3528/3528 [==============================] - 151s 43ms/step - loss: 5.1274e-04\n",
      "Epoch 5/10\n",
      "3528/3528 [==============================] - 155s 44ms/step - loss: 4.7954e-04\n",
      "Epoch 6/10\n",
      "3528/3528 [==============================] - 142s 40ms/step - loss: 4.7037e-04\n",
      "Epoch 7/10\n",
      "3528/3528 [==============================] - 143s 40ms/step - loss: 4.5300e-04\n",
      "Epoch 8/10\n",
      "3528/3528 [==============================] - 153s 43ms/step - loss: 4.3652e-04\n",
      "Epoch 9/10\n",
      "3528/3528 [==============================] - 150s 43ms/step - loss: 4.2029e-04\n",
      "Epoch 10/10\n",
      "3528/3528 [==============================] - 139s 39ms/step - loss: 4.1203e-04\n",
      "29/29 [==============================] - 8s 26ms/step\n",
      "Optimizer = rmsprop, epochs = 10, rmse = 0.755626435529694, mape = 7.7371168267098955\n"
     ]
    }
   ],
   "source": [
    "# get stock data (2011)\n",
    "df_LH = get_data(\"LH.BK\", \"2011-01-01\")\n",
    "\n",
    "# draw data graph\n",
    "plot_data(df_LH, \"LH\")"
   ]
  },
  {
   "cell_type": "code",
   "execution_count": 30,
   "id": "31b6a740",
   "metadata": {},
   "outputs": [
    {
     "name": "stderr",
     "output_type": "stream",
     "text": [
      "C:\\Users\\TEEM\\AppData\\Local\\Temp\\ipykernel_72204\\2295167687.py:7: SettingWithCopyWarning: \n",
      "A value is trying to be set on a copy of a slice from a DataFrame.\n",
      "Try using .loc[row_indexer,col_indexer] = value instead\n",
      "\n",
      "See the caveats in the documentation: https://pandas.pydata.org/pandas-docs/stable/user_guide/indexing.html#returning-a-view-versus-a-copy\n",
      "  valid['Predictions'] = predictions\n"
     ]
    },
    {
     "data": {
      "image/png": "[encoded data removed]",
      "text/plain": [
       "<Figure size 504x360 with 1 Axes>"
      ]
     },
     "metadata": {
      "needs_background": "light"
     },
     "output_type": "display_data"
    }
   ],
   "source": [
    "# set train and test data for 30 look back\n",
    "x_train, y_train, x_test, y_test, data, training_data_len, scaler = train_test_data(df_LH, 30)"
   ]
  },
  {
   "cell_type": "code",
   "execution_count": null,
   "id": "263c1446",
   "metadata": {},
   "outputs": [],
   "source": [
    "# predict LSTM model with 30 look back\n",
    "predictions = model(x_train, y_train, x_test, y_test, 'adam', 1, scaler)\n",
    "predictions = model(x_train, y_train, x_test, y_test, 'adam', 10, scaler)\n",
    "predictions = model(x_train, y_train, x_test, y_test, 'adam', 20, scaler)\n",
    "predictions = model(x_train, y_train, x_test, y_test, 'adam', 30, scaler)\n",
    "\n",
    "predictions = model(x_train, y_train, x_test, y_test, 'sgd', 1, scaler)\n",
    "predictions = model(x_train, y_train, x_test, y_test, 'sgd', 10, scaler)\n",
    "predictions = model(x_train, y_train, x_test, y_test, 'sgd', 20, scaler)\n",
    "predictions = model(x_train, y_train, x_test, y_test, 'sgd', 30, scaler)\n",
    "\n",
    "predictions = model(x_train, y_train, x_test, y_test, 'rmsprop', 1, scaler)\n",
    "predictions = model(x_train, y_train, x_test, y_test, 'rmsprop', 10, scaler)\n",
    "predictions = model(x_train, y_train, x_test, y_test, 'rmsprop', 20, scaler)\n",
    "predictions = model(x_train, y_train, x_test, y_test, 'rmsprop', 30, scaler)"
   ]
  },
  {
   "cell_type": "code",
   "execution_count": null,
   "id": "dbbd5c8c",
   "metadata": {},
   "outputs": [],
   "source": [
    "# set train and test data for 60 look back\n",
    "x_train, y_train, x_test, y_test, data, training_data_len, scaler = train_test_data(df_LH, 60)"
   ]
  },
  {
   "cell_type": "code",
   "execution_count": null,
   "id": "d74a3281",
   "metadata": {},
   "outputs": [],
   "source": [
    "# predict LSTM model with 60 look back\n",
    "predictions = model(x_train, y_train, x_test, y_test, 'adam', 1, scaler)\n",
    "predictions = model(x_train, y_train, x_test, y_test, 'adam', 10, scaler)\n",
    "predictions = model(x_train, y_train, x_test, y_test, 'adam', 20, scaler)\n",
    "predictions = model(x_train, y_train, x_test, y_test, 'adam', 30, scaler)\n",
    "\n",
    "predictions = model(x_train, y_train, x_test, y_test, 'sgd', 1, scaler)\n",
    "predictions = model(x_train, y_train, x_test, y_test, 'sgd', 10, scaler)\n",
    "predictions = model(x_train, y_train, x_test, y_test, 'sgd', 20, scaler)\n",
    "predictions = model(x_train, y_train, x_test, y_test, 'sgd', 30, scaler)\n",
    "\n",
    "predictions = model(x_train, y_train, x_test, y_test, 'rmsprop', 1, scaler)\n",
    "predictions = model(x_train, y_train, x_test, y_test, 'rmsprop', 10, scaler)\n",
    "predictions = model(x_train, y_train, x_test, y_test, 'rmsprop', 20, scaler)\n",
    "predictions = model(x_train, y_train, x_test, y_test, 'rmsprop', 30, scaler)"
   ]
  },
  {
   "cell_type": "code",
   "execution_count": null,
   "id": "99daaf7d",
   "metadata": {},
   "outputs": [],
   "source": [
    "# predict thesis CNN model\n",
    "predictions = thesis_cnn_model(x_train, y_train, x_test, y_test, 'adam', 10, scaler, 3)\n",
    "predictions = thesis_cnn_model(x_train, y_train, x_test, y_test, 'adam', 20, scaler, 3)\n",
    "predictions = thesis_cnn_model(x_train, y_train, x_test, y_test, 'adam', 30, scaler, 3)\n",
    "predictions = thesis_cnn_model(x_train, y_train, x_test, y_test, 'adam', 100, scaler, 3)\n",
    "predictions = thesis_cnn_model(x_train, y_train, x_test, y_test, 'adam', 200, scaler, 3)\n",
    "predictions = thesis_cnn_model(x_train, y_train, x_test, y_test, 'adam', 300, scaler, 3)\n",
    "\n",
    "predictions = thesis_cnn_model(x_train, y_train, x_test, y_test, 'adam', 10, scaler, 5)\n",
    "predictions = thesis_cnn_model(x_train, y_train, x_test, y_test, 'adam', 20, scaler, 5)\n",
    "predictions = thesis_cnn_model(x_train, y_train, x_test, y_test, 'adam', 30, scaler, 5)\n",
    "predictions = thesis_cnn_model(x_train, y_train, x_test, y_test, 'adam', 100, scaler, 5)\n",
    "predictions = thesis_cnn_model(x_train, y_train, x_test, y_test, 'adam', 200, scaler, 5)\n",
    "predictions = thesis_cnn_model(x_train, y_train, x_test, y_test, 'adam', 300, scaler, 5)\n",
    "\n",
    "predictions = thesis_cnn_model(x_train, y_train, x_test, y_test, 'adam', 10, scaler,  7)\n",
    "predictions = thesis_cnn_model(x_train, y_train, x_test, y_test, 'adam', 20, scaler,  7)\n",
    "predictions = thesis_cnn_model(x_train, y_train, x_test, y_test, 'adam', 30, scaler,  7)\n",
    "predictions = thesis_cnn_model(x_train, y_train, x_test, y_test, 'adam', 100, scaler, 7)\n",
    "predictions = thesis_cnn_model(x_train, y_train, x_test, y_test, 'adam', 200, scaler, 7)\n",
    "predictions = thesis_cnn_model(x_train, y_train, x_test, y_test, 'adam', 300, scaler, 7)\n",
    "\n",
    "predictions = thesis_cnn_model(x_train, y_train, x_test, y_test, 'sgd', 10, scaler, 3)\n",
    "predictions = thesis_cnn_model(x_train, y_train, x_test, y_test, 'sgd', 20, scaler, 3)\n",
    "predictions = thesis_cnn_model(x_train, y_train, x_test, y_test, 'sgd', 30, scaler, 3)\n",
    "predictions = thesis_cnn_model(x_train, y_train, x_test, y_test, 'sgd', 100, scaler, 3)\n",
    "predictions = thesis_cnn_model(x_train, y_train, x_test, y_test, 'sgd', 200, scaler, 3)\n",
    "predictions = thesis_cnn_model(x_train, y_train, x_test, y_test, 'sgd', 300, scaler, 3)\n",
    "\n",
    "predictions = thesis_cnn_model(x_train, y_train, x_test, y_test, 'sgd', 10, scaler, 5)\n",
    "predictions = thesis_cnn_model(x_train, y_train, x_test, y_test, 'sgd', 20, scaler, 5)\n",
    "predictions = thesis_cnn_model(x_train, y_train, x_test, y_test, 'sgd', 30, scaler, 5)\n",
    "predictions = thesis_cnn_model(x_train, y_train, x_test, y_test, 'sgd', 100, scaler, 5)\n",
    "predictions = thesis_cnn_model(x_train, y_train, x_test, y_test, 'sgd', 200, scaler, 5)\n",
    "predictions = thesis_cnn_model(x_train, y_train, x_test, y_test, 'sgd', 300, scaler, 5)\n",
    "\n",
    "predictions = thesis_cnn_model(x_train, y_train, x_test, y_test, 'sgd', 10, scaler,  7)\n",
    "predictions = thesis_cnn_model(x_train, y_train, x_test, y_test, 'sgd', 20, scaler,  7)\n",
    "predictions = thesis_cnn_model(x_train, y_train, x_test, y_test, 'sgd', 30, scaler,  7)\n",
    "predictions = thesis_cnn_model(x_train, y_train, x_test, y_test, 'sgd', 100, scaler, 7)\n",
    "predictions = thesis_cnn_model(x_train, y_train, x_test, y_test, 'sgd', 200, scaler, 7)\n",
    "predictions = thesis_cnn_model(x_train, y_train, x_test, y_test, 'sgd', 300, scaler, 7)\n",
    "\n",
    "predictions = thesis_cnn_model(x_train, y_train, x_test, y_test, 'rmsprop', 10, scaler, 3)\n",
    "predictions = thesis_cnn_model(x_train, y_train, x_test, y_test, 'rmsprop', 20, scaler, 3)\n",
    "predictions = thesis_cnn_model(x_train, y_train, x_test, y_test, 'rmsprop', 30, scaler, 3)\n",
    "predictions = thesis_cnn_model(x_train, y_train, x_test, y_test, 'rmsprop', 100, scaler, 3)\n",
    "predictions = thesis_cnn_model(x_train, y_train, x_test, y_test, 'rmsprop', 200, scaler, 3)\n",
    "predictions = thesis_cnn_model(x_train, y_train, x_test, y_test, 'rmsprop', 300, scaler, 3)\n",
    "\n",
    "predictions = thesis_cnn_model(x_train, y_train, x_test, y_test, 'rmsprop', 10, scaler, 5)\n",
    "predictions = thesis_cnn_model(x_train, y_train, x_test, y_test, 'rmsprop', 20, scaler, 5)\n",
    "predictions = thesis_cnn_model(x_train, y_train, x_test, y_test, 'rmsprop', 30, scaler, 5)\n",
    "predictions = thesis_cnn_model(x_train, y_train, x_test, y_test, 'rmsprop', 100, scaler, 5)\n",
    "predictions = thesis_cnn_model(x_train, y_train, x_test, y_test, 'rmsprop', 200, scaler, 5)\n",
    "predictions = thesis_cnn_model(x_train, y_train, x_test, y_test, 'rmsprop', 300, scaler, 5)\n",
    "\n",
    "predictions = thesis_cnn_model(x_train, y_train, x_test, y_test, 'rmsprop', 10, scaler,  7)\n",
    "predictions = thesis_cnn_model(x_train, y_train, x_test, y_test, 'rmsprop', 20, scaler,  7)\n",
    "predictions = thesis_cnn_model(x_train, y_train, x_test, y_test, 'rmsprop', 30, scaler,  7)\n",
    "predictions = thesis_cnn_model(x_train, y_train, x_test, y_test, 'rmsprop', 100, scaler, 7)\n",
    "predictions = thesis_cnn_model(x_train, y_train, x_test, y_test, 'rmsprop', 200, scaler, 7)\n",
    "predictions = thesis_cnn_model(x_train, y_train, x_test, y_test, 'rmsprop', 300, scaler, 7)"
   ]
  },
  {
   "cell_type": "code",
   "execution_count": null,
   "id": "7653a393",
   "metadata": {},
   "outputs": [],
   "source": [
    "# predict new CNN model\n",
    "predictions = cnn_model(x_train, y_train, x_test, y_test, 'adam', 10, scaler, 3)\n",
    "predictions = cnn_model(x_train, y_train, x_test, y_test, 'adam', 20, scaler, 3)\n",
    "predictions = cnn_model(x_train, y_train, x_test, y_test, 'adam', 30, scaler, 3)\n",
    "predictions = cnn_model(x_train, y_train, x_test, y_test, 'adam', 100, scaler, 3)\n",
    "predictions = cnn_model(x_train, y_train, x_test, y_test, 'adam', 200, scaler, 3)\n",
    "predictions = cnn_model(x_train, y_train, x_test, y_test, 'adam', 300, scaler, 3)\n",
    "\n",
    "predictions = cnn_model(x_train, y_train, x_test, y_test, 'adam', 10, scaler, 5)\n",
    "predictions = cnn_model(x_train, y_train, x_test, y_test, 'adam', 20, scaler, 5)\n",
    "predictions = cnn_model(x_train, y_train, x_test, y_test, 'adam', 30, scaler, 5)\n",
    "predictions = cnn_model(x_train, y_train, x_test, y_test, 'adam', 100, scaler, 5)\n",
    "predictions = cnn_model(x_train, y_train, x_test, y_test, 'adam', 200, scaler, 5)\n",
    "predictions = cnn_model(x_train, y_train, x_test, y_test, 'adam', 300, scaler, 5)\n",
    "\n",
    "predictions = cnn_model(x_train, y_train, x_test, y_test, 'adam', 10, scaler,  7)\n",
    "predictions = cnn_model(x_train, y_train, x_test, y_test, 'adam', 20, scaler,  7)\n",
    "predictions = cnn_model(x_train, y_train, x_test, y_test, 'adam', 30, scaler,  7)\n",
    "predictions = cnn_model(x_train, y_train, x_test, y_test, 'adam', 100, scaler, 7)\n",
    "predictions = cnn_model(x_train, y_train, x_test, y_test, 'adam', 200, scaler, 7)\n",
    "predictions = cnn_model(x_train, y_train, x_test, y_test, 'adam', 300, scaler, 7)\n",
    "\n",
    "predictions = cnn_model(x_train, y_train, x_test, y_test, 'sgd', 10, scaler, 3)\n",
    "predictions = cnn_model(x_train, y_train, x_test, y_test, 'sgd', 20, scaler, 3)\n",
    "predictions = cnn_model(x_train, y_train, x_test, y_test, 'sgd', 30, scaler, 3)\n",
    "predictions = cnn_model(x_train, y_train, x_test, y_test, 'sgd', 100, scaler, 3)\n",
    "predictions = cnn_model(x_train, y_train, x_test, y_test, 'sgd', 200, scaler, 3)\n",
    "predictions = cnn_model(x_train, y_train, x_test, y_test, 'sgd', 300, scaler, 3)\n",
    "\n",
    "predictions = cnn_model(x_train, y_train, x_test, y_test, 'sgd', 10, scaler, 5)\n",
    "predictions = cnn_model(x_train, y_train, x_test, y_test, 'sgd', 20, scaler, 5)\n",
    "predictions = cnn_model(x_train, y_train, x_test, y_test, 'sgd', 30, scaler, 5)\n",
    "predictions = cnn_model(x_train, y_train, x_test, y_test, 'sgd', 100, scaler, 5)\n",
    "predictions = cnn_model(x_train, y_train, x_test, y_test, 'sgd', 200, scaler, 5)\n",
    "predictions = cnn_model(x_train, y_train, x_test, y_test, 'sgd', 300, scaler, 5)\n",
    "\n",
    "predictions = cnn_model(x_train, y_train, x_test, y_test, 'sgd', 10, scaler,  7)\n",
    "predictions = cnn_model(x_train, y_train, x_test, y_test, 'sgd', 20, scaler,  7)\n",
    "predictions = cnn_model(x_train, y_train, x_test, y_test, 'sgd', 30, scaler,  7)\n",
    "predictions = cnn_model(x_train, y_train, x_test, y_test, 'sgd', 100, scaler, 7)\n",
    "predictions = cnn_model(x_train, y_train, x_test, y_test, 'sgd', 200, scaler, 7)\n",
    "predictions = cnn_model(x_train, y_train, x_test, y_test, 'sgd', 300, scaler, 7)\n",
    "\n",
    "predictions = cnn_model(x_train, y_train, x_test, y_test, 'rmsprop', 10, scaler, 3)\n",
    "predictions = cnn_model(x_train, y_train, x_test, y_test, 'rmsprop', 20, scaler, 3)\n",
    "predictions = cnn_model(x_train, y_train, x_test, y_test, 'rmsprop', 30, scaler, 3)\n",
    "predictions = cnn_model(x_train, y_train, x_test, y_test, 'rmsprop', 100, scaler, 3)\n",
    "predictions = cnn_model(x_train, y_train, x_test, y_test, 'rmsprop', 200, scaler, 3)\n",
    "predictions = cnn_model(x_train, y_train, x_test, y_test, 'rmsprop', 300, scaler, 3)\n",
    "\n",
    "predictions = cnn_model(x_train, y_train, x_test, y_test, 'rmsprop', 10, scaler, 5)\n",
    "predictions = cnn_model(x_train, y_train, x_test, y_test, 'rmsprop', 20, scaler, 5)\n",
    "predictions = cnn_model(x_train, y_train, x_test, y_test, 'rmsprop', 30, scaler, 5)\n",
    "predictions = cnn_model(x_train, y_train, x_test, y_test, 'rmsprop', 100, scaler, 5)\n",
    "predictions = cnn_model(x_train, y_train, x_test, y_test, 'rmsprop', 200, scaler, 5)\n",
    "predictions = cnn_model(x_train, y_train, x_test, y_test, 'rmsprop', 300, scaler, 5)\n",
    "\n",
    "predictions = cnn_model(x_train, y_train, x_test, y_test, 'rmsprop', 10, scaler,  7)\n",
    "predictions = cnn_model(x_train, y_train, x_test, y_test, 'rmsprop', 20, scaler,  7)\n",
    "predictions = cnn_model(x_train, y_train, x_test, y_test, 'rmsprop', 30, scaler,  7)\n",
    "predictions = cnn_model(x_train, y_train, x_test, y_test, 'rmsprop', 100, scaler, 7)\n",
    "predictions = cnn_model(x_train, y_train, x_test, y_test, 'rmsprop', 200, scaler, 7)\n",
    "predictions = cnn_model(x_train, y_train, x_test, y_test, 'rmsprop', 300, scaler, 7)"
   ]
  },
  {
   "cell_type": "code",
   "execution_count": null,
   "id": "72660e0d",
   "metadata": {},
   "outputs": [],
   "source": [
    "# draw prediction graph\n",
    "valid = plot_graph(data, predictions, training_data_len)"
   ]
  },
  {
   "cell_type": "code",
   "execution_count": null,
   "id": "931b1750",
   "metadata": {},
   "outputs": [],
   "source": [
    "# show prediction data\n",
    "valid"
   ]
  },
  {
   "cell_type": "code",
   "execution_count": null,
   "id": "2a46be1f",
   "metadata": {},
   "outputs": [],
   "source": []
  }
 ],
 "metadata": {
  "kernelspec": {
   "display_name": "Python 3 (ipykernel)",
   "language": "python",
   "name": "python3"
  },
  "language_info": {
   "codemirror_mode": {
    "name": "ipython",
    "version": 3
   },
   "file_extension": ".py",
   "mimetype": "text/x-python",
   "name": "python",
   "nbconvert_exporter": "python",
   "pygments_lexer": "ipython3",
   "version": "3.9.12"
  }
 },
 "nbformat": 4,
 "nbformat_minor": 5
}
